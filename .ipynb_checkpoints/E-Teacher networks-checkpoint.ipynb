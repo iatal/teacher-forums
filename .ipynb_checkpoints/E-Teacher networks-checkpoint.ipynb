{
 "cells": [
  {
   "cell_type": "code",
   "execution_count": 1,
   "metadata": {},
   "outputs": [],
   "source": [
    "df <- read.csv(\"/media/igna/Data/CRI_IA/Teacher_to_teacher/time_data.csv\")"
   ]
  },
  {
   "cell_type": "code",
   "execution_count": 2,
   "metadata": {},
   "outputs": [
    {
     "data": {
      "text/html": [
       "<table>\n",
       "<thead><tr><th scope=col>X</th><th scope=col>author</th><th scope=col>date_message</th><th scope=col>forum_name</th><th scope=col>nb_messages</th><th scope=col>topic_name</th><th scope=col>year</th><th scope=col>month</th><th scope=col>weekday</th><th scope=col>day</th></tr></thead>\n",
       "<tbody>\n",
       "\t<tr><td>0                        </td><td>blanc78                  </td><td>2010-02-23 16:46:05      </td><td>Mathématiques            </td><td>18 messages              </td><td>la droite graduée au ce1 </td><td>2010                     </td><td>2                        </td><td>1                        </td><td>23                       </td></tr>\n",
       "\t<tr><td>1                        </td><td>Yaka...                  </td><td>2010-02-10 17:36:40      </td><td>Mathématiques            </td><td>3 517 messages           </td><td>Symétrie au cm1          </td><td>2010                     </td><td>2                        </td><td>2                        </td><td>10                       </td></tr>\n",
       "\t<tr><td>2                        </td><td>elodieh                  </td><td>2010-02-21 11:39:24      </td><td>Mathématiques            </td><td>73 messages              </td><td>Symétrie au cm1          </td><td>2010                     </td><td>2                        </td><td>6                        </td><td>21                       </td></tr>\n",
       "\t<tr><td>3                        </td><td>cdkm                     </td><td>2010-02-21 11:52:19      </td><td>Mathématiques            </td><td>662 messages             </td><td>Symétrie au cm1          </td><td>2010                     </td><td>2                        </td><td>6                        </td><td>21                       </td></tr>\n",
       "\t<tr><td>4                        </td><td>Stefan                   </td><td>2010-02-21 17:16:09      </td><td>Mathématiques            </td><td>2 529 messages           </td><td>Symétrie au cm1          </td><td>2010                     </td><td>2                        </td><td>6                        </td><td>21                       </td></tr>\n",
       "\t<tr><td>5                        </td><td>valou44                  </td><td>2010-02-22 11:03:59      </td><td>Mathématiques            </td><td>417 messages             </td><td>Symétrie au cm1          </td><td>2010                     </td><td>2                        </td><td>0                        </td><td>22                       </td></tr>\n",
       "</tbody>\n",
       "</table>\n"
      ],
      "text/latex": [
       "\\begin{tabular}{r|llllllllll}\n",
       " X & author & date\\_message & forum\\_name & nb\\_messages & topic\\_name & year & month & weekday & day\\\\\n",
       "\\hline\n",
       "\t 0                         & blanc78                   & 2010-02-23 16:46:05       & Mathématiques             & 18 messages               & la droite graduée au ce1  & 2010                      & 2                         & 1                         & 23                       \\\\\n",
       "\t 1                         & Yaka...                   & 2010-02-10 17:36:40       & Mathématiques             & 3 517 messages            & Symétrie au cm1           & 2010                      & 2                         & 2                         & 10                       \\\\\n",
       "\t 2                         & elodieh                   & 2010-02-21 11:39:24       & Mathématiques             & 73 messages               & Symétrie au cm1           & 2010                      & 2                         & 6                         & 21                       \\\\\n",
       "\t 3                         & cdkm                      & 2010-02-21 11:52:19       & Mathématiques             & 662 messages              & Symétrie au cm1           & 2010                      & 2                         & 6                         & 21                       \\\\\n",
       "\t 4                         & Stefan                    & 2010-02-21 17:16:09       & Mathématiques             & 2 529 messages            & Symétrie au cm1           & 2010                      & 2                         & 6                         & 21                       \\\\\n",
       "\t 5                         & valou44                   & 2010-02-22 11:03:59       & Mathématiques             & 417 messages              & Symétrie au cm1           & 2010                      & 2                         & 0                         & 22                       \\\\\n",
       "\\end{tabular}\n"
      ],
      "text/markdown": [
       "\n",
       "X | author | date_message | forum_name | nb_messages | topic_name | year | month | weekday | day | \n",
       "|---|---|---|---|---|---|\n",
       "| 0                         | blanc78                   | 2010-02-23 16:46:05       | Mathématiques             | 18 messages               | la droite graduée au ce1  | 2010                      | 2                         | 1                         | 23                        | \n",
       "| 1                         | Yaka...                   | 2010-02-10 17:36:40       | Mathématiques             | 3 517 messages            | Symétrie au cm1           | 2010                      | 2                         | 2                         | 10                        | \n",
       "| 2                         | elodieh                   | 2010-02-21 11:39:24       | Mathématiques             | 73 messages               | Symétrie au cm1           | 2010                      | 2                         | 6                         | 21                        | \n",
       "| 3                         | cdkm                      | 2010-02-21 11:52:19       | Mathématiques             | 662 messages              | Symétrie au cm1           | 2010                      | 2                         | 6                         | 21                        | \n",
       "| 4                         | Stefan                    | 2010-02-21 17:16:09       | Mathématiques             | 2 529 messages            | Symétrie au cm1           | 2010                      | 2                         | 6                         | 21                        | \n",
       "| 5                         | valou44                   | 2010-02-22 11:03:59       | Mathématiques             | 417 messages              | Symétrie au cm1           | 2010                      | 2                         | 0                         | 22                        | \n",
       "\n",
       "\n"
      ],
      "text/plain": [
       "  X author  date_message        forum_name    nb_messages    \n",
       "1 0 blanc78 2010-02-23 16:46:05 Mathématiques 18 messages    \n",
       "2 1 Yaka... 2010-02-10 17:36:40 Mathématiques 3 517 messages \n",
       "3 2 elodieh 2010-02-21 11:39:24 Mathématiques 73 messages    \n",
       "4 3 cdkm    2010-02-21 11:52:19 Mathématiques 662 messages   \n",
       "5 4 Stefan  2010-02-21 17:16:09 Mathématiques 2 529 messages \n",
       "6 5 valou44 2010-02-22 11:03:59 Mathématiques 417 messages   \n",
       "  topic_name                year month weekday day\n",
       "1 la droite graduée au ce1  2010 2     1       23 \n",
       "2 Symétrie au cm1           2010 2     2       10 \n",
       "3 Symétrie au cm1           2010 2     6       21 \n",
       "4 Symétrie au cm1           2010 2     6       21 \n",
       "5 Symétrie au cm1           2010 2     6       21 \n",
       "6 Symétrie au cm1           2010 2     0       22 "
      ]
     },
     "metadata": {},
     "output_type": "display_data"
    }
   ],
   "source": [
    "head(df)"
   ]
  },
  {
   "cell_type": "code",
   "execution_count": 3,
   "metadata": {},
   "outputs": [
    {
     "data": {
      "text/html": [
       "<ol class=list-inline>\n",
       "\t<li>676757</li>\n",
       "\t<li>10</li>\n",
       "</ol>\n"
      ],
      "text/latex": [
       "\\begin{enumerate*}\n",
       "\\item 676757\n",
       "\\item 10\n",
       "\\end{enumerate*}\n"
      ],
      "text/markdown": [
       "1. 676757\n",
       "2. 10\n",
       "\n",
       "\n"
      ],
      "text/plain": [
       "[1] 676757     10"
      ]
     },
     "metadata": {},
     "output_type": "display_data"
    }
   ],
   "source": [
    "dim(df)"
   ]
  },
  {
   "cell_type": "markdown",
   "metadata": {},
   "source": [
    "## Defining link between users\n",
    "\n",
    "To define links between users, we will get inspired [from this article](http://cseweb.ucsd.edu/~voelker/pubs/forums-imc11.pdf)\n",
    "\n",
    "From user $u_2$ to user $u_1$ if $u_2$ posted in the same threat than $u_1$ after $u_1$. This means that for big threats, the first user posting will be linked to all users posting after him. We could consider links only if the subsequent post came at most 1 week (or 1 month, or 1 day, to evaluate) after the first post.\n",
    "\n",
    "We could later use more advanced techniques, such as parsing Quotes and @User calls.\n",
    "\n",
    "Then you can consider pairs of nodes with reciprocal links, the strength of links, their evolution, etc...\n",
    "\n",
    "Social network growth: \n",
    "   - for a user, how many time between first post and creating a new issue?\n",
    "   - or, engagement if a user write in a non-holiday period\n",
    "\n",
    "Group Elevation:\n",
    "   - passing from one issue to another? in particular for issues like CP au jour le jour\n",
    "  \n",
    "User Interaction:\n",
    "   - Which percentage of the people your are linked with account to which percentage of your interactions (like a nestedness)"
   ]
  },
  {
   "cell_type": "markdown",
   "metadata": {},
   "source": [
    "#### First, nb of different issues, nb of users per issue, time length of issues"
   ]
  },
  {
   "cell_type": "code",
   "execution_count": 4,
   "metadata": {},
   "outputs": [
    {
     "data": {
      "text/html": [
       "56743"
      ],
      "text/latex": [
       "56743"
      ],
      "text/markdown": [
       "56743"
      ],
      "text/plain": [
       "[1] 56743"
      ]
     },
     "metadata": {},
     "output_type": "display_data"
    }
   ],
   "source": [
    "length(unique(paste(df$forum_name,df$topic_name)))"
   ]
  },
  {
   "cell_type": "code",
   "execution_count": 5,
   "metadata": {},
   "outputs": [],
   "source": [
    "T <- table(paste(df$forum_name,df$topic_name))"
   ]
  },
  {
   "cell_type": "code",
   "execution_count": 6,
   "metadata": {},
   "outputs": [
    {
     "data": {
      "text/plain": [
       "T\n",
       "   1    2    3    4    5    6    7    8    9   10   11   12   13   14   15   16 \n",
       "7087 6808 7131 5862 4795 3801 3170 2515 2040 1652 1405 1161 1026  780  702  589 \n",
       "  17   18   19   20 \n",
       " 479  471  414  348 "
      ]
     },
     "metadata": {},
     "output_type": "display_data"
    }
   ],
   "source": [
    "head(table(T),n=20)"
   ]
  },
  {
   "cell_type": "code",
   "execution_count": 7,
   "metadata": {},
   "outputs": [
    {
     "data": {
      "text/html": [
       "5281"
      ],
      "text/latex": [
       "5281"
      ],
      "text/markdown": [
       "5281"
      ],
      "text/plain": [
       "[1] 5281"
      ]
     },
     "metadata": {},
     "output_type": "display_data"
    }
   ],
   "source": [
    "max(T)"
   ]
  },
  {
   "cell_type": "code",
   "execution_count": 8,
   "metadata": {},
   "outputs": [],
   "source": [
    "cT <- cut(T,breaks=c(0,1,2,5,10,20,50,100,200,500,1000,6000))"
   ]
  },
  {
   "cell_type": "code",
   "execution_count": 9,
   "metadata": {},
   "outputs": [
    {
     "data": {
      "image/png": "[encoded data removed]",
      "text/plain": [
       "Plot with title “Nb of posts per issue”"
      ]
     },
     "metadata": {},
     "output_type": "display_data"
    }
   ],
   "source": [
    "barplot(table(cT),las=2,cex.names=0.8,main=\"Nb of posts per issue\",xlab = \"Nb of posts\", ylab = \"Nb of issues\")"
   ]
  },
  {
   "cell_type": "markdown",
   "metadata": {},
   "source": [
    "#### Time difference between first and last post per issue"
   ]
  },
  {
   "cell_type": "code",
   "execution_count": 10,
   "metadata": {},
   "outputs": [],
   "source": [
    "df$date_ts <- strptime(as.character(df$date_message), format = \"%Y-%m-%d %H:%M:%S\")"
   ]
  },
  {
   "cell_type": "code",
   "execution_count": 12,
   "metadata": {},
   "outputs": [
    {
     "name": "stdout",
     "output_type": "stream",
     "text": [
      " POSIXlt[1:676757], format: \"2010-02-23 16:46:05\" \"2010-02-10 17:36:40\" \"2010-02-21 11:39:24\" ...\n"
     ]
    }
   ],
   "source": [
    "str(df$date_ts)"
   ]
  },
  {
   "cell_type": "code",
   "execution_count": 38,
   "metadata": {},
   "outputs": [],
   "source": [
    "L <- tapply(df$date_ts,paste(df$forum_name,df$topic_name),function(x){\n",
    "        diff_time <- max(x)-min(x)\n",
    "        units(diff_time) <- \"days\"\n",
    "        diff_time\n",
    "     })"
   ]
  },
  {
   "cell_type": "code",
   "execution_count": 19,
   "metadata": {},
   "outputs": [
    {
     "data": {
      "text/plain": [
       "    Min.  1st Qu.   Median     Mean  3rd Qu.     Max. \n",
       "   0.000    1.939    6.579  155.363   23.076 5555.850 "
      ]
     },
     "metadata": {},
     "output_type": "display_data"
    }
   ],
   "source": [
    "summary(L)"
   ]
  },
  {
   "cell_type": "code",
   "execution_count": 44,
   "metadata": {},
   "outputs": [],
   "source": [
    "cL <- cut(L,breaks=c(-1,0,0.5,1,2,3,4,5,6,7,14,30,60,365,6000))"
   ]
  },
  {
   "cell_type": "code",
   "execution_count": 45,
   "metadata": {},
   "outputs": [
    {
     "data": {
      "image/png": "[encoded data removed]",
      "text/plain": [
       "Plot with title “Time length of issues”"
      ]
     },
     "metadata": {},
     "output_type": "display_data"
    }
   ],
   "source": [
    "barplot(table(cL),las=2,cex.names=0.8,main=\"Time length of issues\",xlab = \"Time diff first and last post\", ylab = \"Nb of issues\")"
   ]
  },
  {
   "cell_type": "code",
   "execution_count": 48,
   "metadata": {},
   "outputs": [],
   "source": [
    "df <- df[order(df$forum_name,df$topic_name,df$date_ts),]"
   ]
  },
  {
   "cell_type": "code",
   "execution_count": 53,
   "metadata": {},
   "outputs": [
    {
     "data": {
      "text/html": [
       "<ol class=list-inline>\n",
       "\t<li>-1</li>\n",
       "\t<li>-2</li>\n",
       "\t<li>-3</li>\n",
       "</ol>\n"
      ],
      "text/latex": [
       "\\begin{enumerate*}\n",
       "\\item -1\n",
       "\\item -2\n",
       "\\item -3\n",
       "\\end{enumerate*}\n"
      ],
      "text/markdown": [
       "1. -1\n",
       "2. -2\n",
       "3. -3\n",
       "\n",
       "\n"
      ],
      "text/plain": [
       "[1] -1 -2 -3"
      ]
     },
     "metadata": {},
     "output_type": "display_data"
    }
   ],
   "source": [
    "-(seq(3))"
   ]
  },
  {
   "cell_type": "code",
   "execution_count": 49,
   "metadata": {},
   "outputs": [],
   "source": [
    "shift <- function(x, n){\n",
    "  c(x[-(seq(n))], rep(NA, n))\n",
    "}\n",
    "\n",
    "df$shifted_ts <- shift(df$date_ts, 1)"
   ]
  },
  {
   "cell_type": "code",
   "execution_count": 54,
   "metadata": {},
   "outputs": [],
   "source": [
    "df$diff_time <- df$shifted_ts - df$date_ts"
   ]
  },
  {
   "cell_type": "code",
   "execution_count": 56,
   "metadata": {},
   "outputs": [],
   "source": [
    "units(df$diff_time) <- \"mins\""
   ]
  },
  {
   "cell_type": "code",
   "execution_count": 57,
   "metadata": {},
   "outputs": [
    {
     "data": {
      "text/plain": [
       "Time differences in mins\n",
       "[1]  1.407030e+04  9.746950e+03  7.529717e+03  3.784483e+03 -1.507339e+06\n",
       "[6]  6.276667e+01"
      ]
     },
     "metadata": {},
     "output_type": "display_data"
    }
   ],
   "source": [
    "head(df$diff_time)"
   ]
  },
  {
   "cell_type": "code",
   "execution_count": 59,
   "metadata": {},
   "outputs": [
    {
     "data": {
      "text/html": [
       "1"
      ],
      "text/latex": [
       "1"
      ],
      "text/markdown": [
       "1"
      ],
      "text/plain": [
       "[1] 1"
      ]
     },
     "metadata": {},
     "output_type": "display_data"
    }
   ],
   "source": [
    "head(c(1,2),-1)"
   ]
  },
  {
   "cell_type": "code",
   "execution_count": 61,
   "metadata": {},
   "outputs": [],
   "source": [
    "df$last_elem_topic <- shift(!duplicated(paste(df$forum_name,df$topic_name)),1)"
   ]
  },
  {
   "cell_type": "code",
   "execution_count": 66,
   "metadata": {},
   "outputs": [],
   "source": [
    "library(ggplot2)"
   ]
  },
  {
   "cell_type": "code",
   "execution_count": 83,
   "metadata": {},
   "outputs": [],
   "source": [
    "df$nb_diff_time <- as.numeric(df$diff_time)"
   ]
  },
  {
   "cell_type": "code",
   "execution_count": 81,
   "metadata": {},
   "outputs": [
    {
     "name": "stderr",
     "output_type": "stream",
     "text": [
      "Warning message in eval(expr, envir, enclos):\n",
      "“NaNs produced”"
     ]
    }
   ],
   "source": [
    "#df$log_diff_time <- log(as.numeric(df$diff_time),base=10)"
   ]
  },
  {
   "cell_type": "code",
   "execution_count": 95,
   "metadata": {
    "scrolled": false
   },
   "outputs": [
    {
     "name": "stderr",
     "output_type": "stream",
     "text": [
      "Warning message:\n",
      "“Transformation introduced infinite values in continuous x-axis”Warning message:\n",
      "“Removed 123 rows containing non-finite values (stat_bin).”"
     ]
    },
    {
     "data": {},
     "metadata": {},
     "output_type": "display_data"
    },
    {
     "data": {
      "image/png": "[encoded data removed]",
      "text/plain": [
       "plot without title"
      ]
     },
     "metadata": {},
     "output_type": "display_data"
    }
   ],
   "source": [
    "ggplot(df[!df$last_elem_topic,], aes(x = nb_diff_time)) + geom_histogram(bins=1000) + \n",
    "scale_x_log10(breaks = c(0,1,60,60*12,60*24,60*24*2,60*24*7,60*24*30,60*24*365) ,\n",
    "              labels = c(\"0\",\"1m\",\"1h\",\"12h\",\"1d\",\"2d\",\"1w\",\"1m\",\"1y\")) +\n",
    "theme_minimal()\n",
    "#scale_x_continuous(breaks = c(0,1,60,60*24,60*24*7,60*24*30) , \n",
    "#                   labels = c(\"0\",\"1m\",\"1h\",\"1d\",\"1w\",\"1m\"))"
   ]
  },
  {
   "cell_type": "markdown",
   "metadata": {},
   "source": [
    "#### Nb of users per issue"
   ]
  },
  {
   "cell_type": "code",
   "execution_count": 97,
   "metadata": {},
   "outputs": [],
   "source": [
    "LU <- tapply(as.character(df$author),paste(df$forum_name,df$topic_name),function(x){\n",
    "        length(unique(x))\n",
    "     })"
   ]
  },
  {
   "cell_type": "code",
   "execution_count": 102,
   "metadata": {},
   "outputs": [
    {
     "data": {
      "image/png": "[encoded data removed]",
      "text/plain": [
       "plot without title"
      ]
     },
     "metadata": {},
     "output_type": "display_data"
    }
   ],
   "source": [
    "plot(as.numeric(LU),as.numeric(T),log = \"xy\")"
   ]
  },
  {
   "cell_type": "code",
   "execution_count": 103,
   "metadata": {
    "collapsed": true
   },
   "outputs": [
    {
     "name": "stderr",
     "output_type": "stream",
     "text": [
      "gdata: read.xls support for 'XLS' (Excel 97-2004) files ENABLED.\n",
      "\n",
      "gdata: read.xls support for 'XLSX' (Excel 2007+) files ENABLED.\n",
      "\n",
      "Attaching package: ‘gdata’\n",
      "\n",
      "The following object is masked from ‘package:stats’:\n",
      "\n",
      "    nobs\n",
      "\n",
      "The following object is masked from ‘package:utils’:\n",
      "\n",
      "    object.size\n",
      "\n",
      "The following object is masked from ‘package:base’:\n",
      "\n",
      "    startsWith\n",
      "\n"
     ]
    }
   ],
   "source": [
    "library(gdata)"
   ]
  },
  {
   "cell_type": "code",
   "execution_count": 104,
   "metadata": {},
   "outputs": [],
   "source": [
    "M <- data.frame(cbind(as.numeric(LU),as.numeric(T)))"
   ]
  },
  {
   "cell_type": "code",
   "execution_count": 105,
   "metadata": {},
   "outputs": [
    {
     "data": {
      "text/html": [
       "<table>\n",
       "<thead><tr><th scope=col>X1</th><th scope=col>X2</th></tr></thead>\n",
       "<tbody>\n",
       "\t<tr><td>4 </td><td> 5</td></tr>\n",
       "\t<tr><td>2 </td><td> 2</td></tr>\n",
       "\t<tr><td>3 </td><td> 9</td></tr>\n",
       "\t<tr><td>1 </td><td> 1</td></tr>\n",
       "\t<tr><td>3 </td><td> 3</td></tr>\n",
       "\t<tr><td>5 </td><td>10</td></tr>\n",
       "</tbody>\n",
       "</table>\n"
      ],
      "text/latex": [
       "\\begin{tabular}{r|ll}\n",
       " X1 & X2\\\\\n",
       "\\hline\n",
       "\t 4  &  5\\\\\n",
       "\t 2  &  2\\\\\n",
       "\t 3  &  9\\\\\n",
       "\t 1  &  1\\\\\n",
       "\t 3  &  3\\\\\n",
       "\t 5  & 10\\\\\n",
       "\\end{tabular}\n"
      ],
      "text/markdown": [
       "\n",
       "X1 | X2 | \n",
       "|---|---|---|---|---|---|\n",
       "| 4  |  5 | \n",
       "| 2  |  2 | \n",
       "| 3  |  9 | \n",
       "| 1  |  1 | \n",
       "| 3  |  3 | \n",
       "| 5  | 10 | \n",
       "\n",
       "\n"
      ],
      "text/plain": [
       "  X1 X2\n",
       "1 4   5\n",
       "2 2   2\n",
       "3 3   9\n",
       "4 1   1\n",
       "5 3   3\n",
       "6 5  10"
      ]
     },
     "metadata": {},
     "output_type": "display_data"
    }
   ],
   "source": [
    "head(M)"
   ]
  },
  {
   "cell_type": "code",
   "execution_count": 107,
   "metadata": {},
   "outputs": [],
   "source": [
    "names(M) <- c(\"Nb_users\",\"Nb_posts\")"
   ]
  },
  {
   "cell_type": "code",
   "execution_count": 108,
   "metadata": {},
   "outputs": [],
   "source": [
    "rownames(M)<-names(LU)"
   ]
  },
  {
   "cell_type": "code",
   "execution_count": 109,
   "metadata": {},
   "outputs": [
    {
     "data": {
      "text/html": [
       "<table>\n",
       "<thead><tr><th></th><th scope=col>Nb_users</th><th scope=col>Nb_posts</th></tr></thead>\n",
       "<tbody>\n",
       "\t<tr><th scope=row>Arts visuels 'Camouflage' </th><td>4 </td><td> 5</td></tr>\n",
       "\t<tr><th scope=row>Arts visuels \"grande lessive\"qui participe? </th><td>2 </td><td> 2</td></tr>\n",
       "\t<tr><th scope=row>Arts visuels \"Habiter les formes de la nature\" </th><td>3 </td><td> 9</td></tr>\n",
       "\t<tr><th scope=row>Arts visuels \"joker\" </th><td>1 </td><td> 1</td></tr>\n",
       "\t<tr><th scope=row>Arts visuels \"Moi ming\" </th><td>3 </td><td> 3</td></tr>\n",
       "\t<tr><th scope=row>Arts visuels \"Objet\" de fin d'année </th><td>5 </td><td>10</td></tr>\n",
       "</tbody>\n",
       "</table>\n"
      ],
      "text/latex": [
       "\\begin{tabular}{r|ll}\n",
       "  & Nb\\_users & Nb\\_posts\\\\\n",
       "\\hline\n",
       "\tArts visuels 'Camouflage'  & 4  &  5\\\\\n",
       "\tArts visuels \"grande lessive\"qui participe?  & 2  &  2\\\\\n",
       "\tArts visuels \"Habiter les formes de la nature\"  & 3  &  9\\\\\n",
       "\tArts visuels \"joker\"  & 1  &  1\\\\\n",
       "\tArts visuels \"Moi ming\"  & 3  &  3\\\\\n",
       "\tArts visuels \"Objet\" de fin d'année  & 5  & 10\\\\\n",
       "\\end{tabular}\n"
      ],
      "text/markdown": [
       "\n",
       "| <!--/--> | Nb_users | Nb_posts | \n",
       "|---|---|---|---|---|---|\n",
       "| Arts visuels 'Camouflage'  | 4  |  5 | \n",
       "| Arts visuels \"grande lessive\"qui participe?  | 2  |  2 | \n",
       "| Arts visuels \"Habiter les formes de la nature\"  | 3  |  9 | \n",
       "| Arts visuels \"joker\"  | 1  |  1 | \n",
       "| Arts visuels \"Moi ming\"  | 3  |  3 | \n",
       "| Arts visuels \"Objet\" de fin d'année  | 5  | 10 | \n",
       "\n",
       "\n"
      ],
      "text/plain": [
       "                                                Nb_users Nb_posts\n",
       "Arts visuels 'Camouflage'                       4         5      \n",
       "Arts visuels \"grande lessive\"qui participe?     2         2      \n",
       "Arts visuels \"Habiter les formes de la nature\"  3         9      \n",
       "Arts visuels \"joker\"                            1         1      \n",
       "Arts visuels \"Moi ming\"                         3         3      \n",
       "Arts visuels \"Objet\" de fin d'année             5        10      "
      ]
     },
     "metadata": {},
     "output_type": "display_data"
    }
   ],
   "source": [
    "head(M)"
   ]
  },
  {
   "cell_type": "code",
   "execution_count": 110,
   "metadata": {},
   "outputs": [],
   "source": [
    "M$cat_nb_users <- cut(M$Nb_users,breaks=c(0,1,2,3,4,5,10,20,50,100,1000))"
   ]
  },
  {
   "cell_type": "code",
   "execution_count": 111,
   "metadata": {},
   "outputs": [],
   "source": [
    "p <- ggplot(M, aes(x = cat_nb_users, y = Nb_posts)) +\n",
    "        geom_boxplot() +\n",
    "        scale_y_log10(name = \"Nb posts\",breaks = c(1,2,3,5,10,20,50,100,1000,10000)\n",
    "                       ) +\n",
    "        scale_x_discrete(name = \"Nb users\") +\n",
    "        theme_bw() +\n",
    "        theme(plot.title = element_text(size = 14, face = \"bold\"),\n",
    "              text = element_text(size = 12),\n",
    "              axis.title = element_text(face=\"bold\"),\n",
    "              axis.text.x=element_text(size = 11))"
   ]
  },
  {
   "cell_type": "code",
   "execution_count": 112,
   "metadata": {},
   "outputs": [
    {
     "data": {},
     "metadata": {},
     "output_type": "display_data"
    },
    {
     "data": {
      "image/png": "[encoded data removed]",
      "text/plain": [
       "plot without title"
      ]
     },
     "metadata": {},
     "output_type": "display_data"
    }
   ],
   "source": [
    "p"
   ]
  },
  {
   "cell_type": "code",
   "execution_count": null,
   "metadata": {},
   "outputs": [],
   "source": [
    "MA$cat_sp <- reorder(MA$cat_sp,new.order = c('[30,100)','[100,200)','[200,500)','[500,1000)','>=1000'))"
   ]
  },
  {
   "cell_type": "code",
   "execution_count": null,
   "metadata": {},
   "outputs": [],
   "source": []
  },
  {
   "cell_type": "code",
   "execution_count": 50,
   "metadata": {},
   "outputs": [
    {
     "data": {
      "text/html": [
       "<table>\n",
       "<thead><tr><th></th><th scope=col>date_ts</th><th scope=col>shifted_ts</th></tr></thead>\n",
       "<tbody>\n",
       "\t<tr><th scope=row>326904</th><td>2010-07-12 00:09:29</td><td>2010-07-21 18:39:47</td></tr>\n",
       "\t<tr><th scope=row>326905</th><td>2010-07-21 18:39:47</td><td>2010-07-28 13:06:44</td></tr>\n",
       "\t<tr><th scope=row>326906</th><td>2010-07-28 13:06:44</td><td>2010-08-02 18:36:27</td></tr>\n",
       "\t<tr><th scope=row>326907</th><td>2010-08-02 18:36:27</td><td>2010-08-05 09:40:56</td></tr>\n",
       "\t<tr><th scope=row>326908</th><td>2010-08-05 09:40:56</td><td>2007-09-23 15:21:42</td></tr>\n",
       "\t<tr><th scope=row>358436</th><td>2007-09-23 15:21:42</td><td>2007-09-23 16:24:28</td></tr>\n",
       "</tbody>\n",
       "</table>\n"
      ],
      "text/latex": [
       "\\begin{tabular}{r|ll}\n",
       "  & date\\_ts & shifted\\_ts\\\\\n",
       "\\hline\n",
       "\t326904 & 2010-07-12 00:09:29 & 2010-07-21 18:39:47\\\\\n",
       "\t326905 & 2010-07-21 18:39:47 & 2010-07-28 13:06:44\\\\\n",
       "\t326906 & 2010-07-28 13:06:44 & 2010-08-02 18:36:27\\\\\n",
       "\t326907 & 2010-08-02 18:36:27 & 2010-08-05 09:40:56\\\\\n",
       "\t326908 & 2010-08-05 09:40:56 & 2007-09-23 15:21:42\\\\\n",
       "\t358436 & 2007-09-23 15:21:42 & 2007-09-23 16:24:28\\\\\n",
       "\\end{tabular}\n"
      ],
      "text/markdown": [
       "\n",
       "| <!--/--> | date_ts | shifted_ts | \n",
       "|---|---|---|---|---|---|\n",
       "| 326904 | 2010-07-12 00:09:29 | 2010-07-21 18:39:47 | \n",
       "| 326905 | 2010-07-21 18:39:47 | 2010-07-28 13:06:44 | \n",
       "| 326906 | 2010-07-28 13:06:44 | 2010-08-02 18:36:27 | \n",
       "| 326907 | 2010-08-02 18:36:27 | 2010-08-05 09:40:56 | \n",
       "| 326908 | 2010-08-05 09:40:56 | 2007-09-23 15:21:42 | \n",
       "| 358436 | 2007-09-23 15:21:42 | 2007-09-23 16:24:28 | \n",
       "\n",
       "\n"
      ],
      "text/plain": [
       "       date_ts             shifted_ts         \n",
       "326904 2010-07-12 00:09:29 2010-07-21 18:39:47\n",
       "326905 2010-07-21 18:39:47 2010-07-28 13:06:44\n",
       "326906 2010-07-28 13:06:44 2010-08-02 18:36:27\n",
       "326907 2010-08-02 18:36:27 2010-08-05 09:40:56\n",
       "326908 2010-08-05 09:40:56 2007-09-23 15:21:42\n",
       "358436 2007-09-23 15:21:42 2007-09-23 16:24:28"
      ]
     },
     "metadata": {},
     "output_type": "display_data"
    }
   ],
   "source": [
    "head(df[,c(\"date_ts\",\"shifted_ts\")])"
   ]
  },
  {
   "cell_type": "code",
   "execution_count": 30,
   "metadata": {},
   "outputs": [
    {
     "data": {
      "text/html": [
       "<ol class=list-inline>\n",
       "\t<li>1120165</li>\n",
       "\t<li>-928964</li>\n",
       "\t<li>-775</li>\n",
       "\t<li>-19430</li>\n",
       "\t<li>-64070</li>\n",
       "\t<li>-3830</li>\n",
       "</ol>\n"
      ],
      "text/latex": [
       "\\begin{enumerate*}\n",
       "\\item 1120165\n",
       "\\item -928964\n",
       "\\item -775\n",
       "\\item -19430\n",
       "\\item -64070\n",
       "\\item -3830\n",
       "\\end{enumerate*}\n"
      ],
      "text/markdown": [
       "1. 1120165\n",
       "2. -928964\n",
       "3. -775\n",
       "4. -19430\n",
       "5. -64070\n",
       "6. -3830\n",
       "\n",
       "\n"
      ],
      "text/plain": [
       "[1] 1120165 -928964    -775  -19430  -64070   -3830"
      ]
     },
     "metadata": {},
     "output_type": "display_data"
    }
   ],
   "source": [
    "as.numeric(head(df$date_ts - df$shifted_ts))"
   ]
  },
  {
   "cell_type": "code",
   "execution_count": 31,
   "metadata": {},
   "outputs": [
    {
     "name": "stdout",
     "output_type": "stream",
     "text": [
      " POSIXlt[1:676757], format: \"2010-02-23 16:46:05\" \"2010-02-10 17:36:40\" \"2010-02-21 11:39:24\" ...\n"
     ]
    }
   ],
   "source": [
    "str(df$date_ts)"
   ]
  },
  {
   "cell_type": "code",
   "execution_count": null,
   "metadata": {},
   "outputs": [],
   "source": []
  },
  {
   "cell_type": "code",
   "execution_count": 15,
   "metadata": {},
   "outputs": [
    {
     "data": {
      "text/html": [
       "5826.84822916667"
      ],
      "text/latex": [
       "5826.84822916667"
      ],
      "text/markdown": [
       "5826.84822916667"
      ],
      "text/plain": [
       "[1] 5826.848"
      ]
     },
     "metadata": {},
     "output_type": "display_data"
    }
   ],
   "source": [
    "as.numeric(max(df$date_ts) - min(df$date_ts))"
   ]
  },
  {
   "cell_type": "code",
   "execution_count": null,
   "metadata": {},
   "outputs": [],
   "source": []
  },
  {
   "cell_type": "code",
   "execution_count": 12,
   "metadata": {},
   "outputs": [
    {
     "data": {
      "text/html": [
       "<ol class=list-inline>\n",
       "\t<li>'2010-02-23 16:46:05'</li>\n",
       "\t<li>'2010-02-10 17:36:40'</li>\n",
       "\t<li>'2010-02-21 11:39:24'</li>\n",
       "\t<li>'2010-02-21 11:52:19'</li>\n",
       "\t<li>'2010-02-21 17:16:09'</li>\n",
       "\t<li>'2010-02-22 11:03:59'</li>\n",
       "</ol>\n"
      ],
      "text/latex": [
       "\\begin{enumerate*}\n",
       "\\item '2010-02-23 16:46:05'\n",
       "\\item '2010-02-10 17:36:40'\n",
       "\\item '2010-02-21 11:39:24'\n",
       "\\item '2010-02-21 11:52:19'\n",
       "\\item '2010-02-21 17:16:09'\n",
       "\\item '2010-02-22 11:03:59'\n",
       "\\end{enumerate*}\n"
      ],
      "text/markdown": [
       "1. '2010-02-23 16:46:05'\n",
       "2. '2010-02-10 17:36:40'\n",
       "3. '2010-02-21 11:39:24'\n",
       "4. '2010-02-21 11:52:19'\n",
       "5. '2010-02-21 17:16:09'\n",
       "6. '2010-02-22 11:03:59'\n",
       "\n",
       "\n"
      ],
      "text/plain": [
       "[1] \"2010-02-23 16:46:05\" \"2010-02-10 17:36:40\" \"2010-02-21 11:39:24\"\n",
       "[4] \"2010-02-21 11:52:19\" \"2010-02-21 17:16:09\" \"2010-02-22 11:03:59\""
      ]
     },
     "metadata": {},
     "output_type": "display_data"
    }
   ],
   "source": [
    "head(as.character(df$date_message))"
   ]
  },
  {
   "cell_type": "code",
   "execution_count": 13,
   "metadata": {},
   "outputs": [
    {
     "name": "stdout",
     "output_type": "stream",
     "text": [
      "%Y-%m-%d %H:%M:%S2010-02-23 16:46:05 ------##\n",
      "%Y-%m-%d %H:%M:%S2010-02-10 17:36:40 ------##\n",
      "%Y-%m-%d %H:%M:%S2010-02-21 11:39:24 ------##\n",
      "%Y-%m-%d %H:%M:%S2010-02-21 11:52:19 ------##\n",
      "%Y-%m-%d %H:%M:%S2010-02-21 17:16:09 ------##\n",
      "%Y-%m-%d %H:%M:%S2010-02-22 11:03:59 ------##\n"
     ]
    }
   ],
   "source": [
    "timestamp(head(as.character(df$date_message)), \"%Y-%m-%d %H:%M:%S\")"
   ]
  },
  {
   "cell_type": "code",
   "execution_count": 19,
   "metadata": {},
   "outputs": [
    {
     "data": {
      "text/plain": [
       "[1] \"2010-02-10 17:36:40 CET\""
      ]
     },
     "metadata": {},
     "output_type": "display_data"
    }
   ],
   "source": [
    "min(strptime(head(as.character(df$date_message)), format = \"%Y-%m-%d %H:%M:%S\"))"
   ]
  },
  {
   "cell_type": "code",
   "execution_count": 15,
   "metadata": {},
   "outputs": [
    {
     "name": "stdout",
     "output_type": "stream",
     "text": [
      "##------ 2010-02-23 16:46:05 ------##\n",
      "##------ 2010-02-10 17:36:40 ------##\n",
      "##------ 2010-02-21 11:39:24 ------##\n",
      "##------ 2010-02-21 11:52:19 ------##\n",
      "##------ 2010-02-21 17:16:09 ------##\n",
      "##------ 2010-02-22 11:03:59 ------##\n"
     ]
    },
    {
     "data": {
      "text/html": [
       "'##------ 2010-02-23 16:46:05 ------##'"
      ],
      "text/latex": [
       "'\\#\\#------ 2010-02-23 16:46:05 ------\\#\\#'"
      ],
      "text/markdown": [
       "'##------ 2010-02-23 16:46:05 ------##'"
      ],
      "text/plain": [
       "[1] \"##------ 2010-02-23 16:46:05 ------##\""
      ]
     },
     "metadata": {},
     "output_type": "display_data"
    }
   ],
   "source": [
    "max(strptime(head(as.character(df$date_message))))"
   ]
  },
  {
   "cell_type": "code",
   "execution_count": null,
   "metadata": {},
   "outputs": [],
   "source": []
  },
  {
   "cell_type": "code",
   "execution_count": 14,
   "metadata": {},
   "outputs": [],
   "source": [
    "head(timestamp(df$date_message))"
   ]
  },
  {
   "cell_type": "code",
   "execution_count": null,
   "metadata": {},
   "outputs": [],
   "source": [
    "\n",
    "tapply(paste(df$forum_name,df$topic_name)"
   ]
  }
 ],
 "metadata": {
  "kernelspec": {
   "display_name": "R",
   "language": "R",
   "name": "ir"
  },
  "language_info": {
   "codemirror_mode": "r",
   "file_extension": ".r",
   "mimetype": "text/x-r-source",
   "name": "R",
   "pygments_lexer": "r",
   "version": "3.5.3"
  }
 },
 "nbformat": 4,
 "nbformat_minor": 2
}
