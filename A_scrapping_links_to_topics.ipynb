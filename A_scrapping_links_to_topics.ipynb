{
 "cells": [
  {
   "cell_type": "code",
   "execution_count": 1,
   "metadata": {},
   "outputs": [],
   "source": [
    "from requests import get\n",
    "from requests.exceptions import RequestException\n",
    "from contextlib import closing\n",
    "from bs4 import BeautifulSoup\n",
    "import time\n",
    "from datetime import datetime\n",
    "import pandas as pd\n",
    "import numpy as np"
   ]
  },
  {
   "cell_type": "code",
   "execution_count": 2,
   "metadata": {},
   "outputs": [],
   "source": [
    "def simple_get(url):\n",
    "    \"\"\"\n",
    "    Attempts to get the content at `url` by making an HTTP GET request.\n",
    "    If the content-type of response is some kind of HTML/XML, return the\n",
    "    text content, otherwise return None.\n",
    "    \"\"\"\n",
    "    try:\n",
    "        with closing(get(url, stream=True)) as resp:\n",
    "            if is_good_response(resp):\n",
    "                return resp.content\n",
    "            else:\n",
    "                return None\n",
    "\n",
    "    except RequestException as e:\n",
    "        log_error('Error during requests to {0} : {1}'.format(url, str(e)))\n",
    "        return None\n",
    "\n",
    "\n",
    "def is_good_response(resp):\n",
    "    \"\"\"\n",
    "    Returns True if the response seems to be HTML, False otherwise.\n",
    "    \"\"\"\n",
    "    content_type = resp.headers['Content-Type'].lower()\n",
    "    return (resp.status_code == 200 \n",
    "            and content_type is not None \n",
    "            and content_type.find('html') > -1)\n",
    "\n",
    "\n",
    "def log_error(e):\n",
    "    \"\"\"\n",
    "    It is always a good idea to log errors. \n",
    "    This function just prints them, but you can\n",
    "    make it do anything.\n",
    "    \"\"\"\n",
    "    print(e)"
   ]
  },
  {
   "cell_type": "code",
   "execution_count": 3,
   "metadata": {},
   "outputs": [],
   "source": [
    "raw_html = simple_get(\"https://forums-enseignants-du-primaire.com/forum/2-les-domaines-d39activit%C3%A9-%C3%A0-l39%C3%A9cole-%C3%A9l%C3%A9mentaire/\")\n",
    "html = BeautifulSoup(raw_html, 'html.parser')\n",
    "\n",
    "forums = []\n",
    "for h4 in html.select('h4'):\n",
    "    #identifying forums\n",
    "    if h4['class'] == ['ipsDataItem_title','ipsType_large','ipsType_break']:\n",
    "        for a in h4.select(\"a\"):\n",
    "            forums.append((a['href'],a.text))"
   ]
  },
  {
   "cell_type": "code",
   "execution_count": 4,
   "metadata": {},
   "outputs": [
    {
     "name": "stdout",
     "output_type": "stream",
     "text": [
      "2019-01-16 17:21:36.676428\n"
     ]
    }
   ],
   "source": [
    "startTime = datetime.now()\n",
    "print(startTime)\n",
    "\n",
    "#All pages with topics per forum\n",
    "pages_with_topics = set()\n",
    "for (forum_link, forum_name) in forums:\n",
    "    forum_html_raw = simple_get(forum_link)\n",
    "    forum_html = BeautifulSoup(forum_html_raw)\n",
    "    for div in forum_html.findAll('div', class_ = ['ipsButtonBar', \n",
    "                                                   'ipsPad_half', 'ipsClearfix_ipsClear']):\n",
    "        for li in div.findAll('li', class_ = \"ipsPagination_last\"):\n",
    "            for a in li.select(\"a\"):\n",
    "                #identifying last page\n",
    "                last_page = a['data-page']\n",
    "                url_last_page = a[\"href\"]\n",
    "                url_topic = url_last_page.split(\"page=\")[0]\n",
    "                last_page_nb = int(url_last_page.split(\"page=\")[1])\n",
    "                for x in map(str,list(range(1,last_page_nb))):\n",
    "                    pages_with_topics.add((forum_name,url_topic + \"page=\" + x))"
   ]
  },
  {
   "cell_type": "code",
   "execution_count": 5,
   "metadata": {},
   "outputs": [
    {
     "data": {
      "text/plain": [
       "1515"
      ]
     },
     "execution_count": 5,
     "metadata": {},
     "output_type": "execute_result"
    }
   ],
   "source": [
    "len(pages_with_topics)"
   ]
  },
  {
   "cell_type": "code",
   "execution_count": 6,
   "metadata": {},
   "outputs": [
    {
     "name": "stdout",
     "output_type": "stream",
     "text": [
      "2019-01-16 17:21:44.064684\n",
      "0:23:34.368897\n"
     ]
    }
   ],
   "source": [
    "startTime = datetime.now()\n",
    "print(startTime)\n",
    "\n",
    "topics = []\n",
    "for (forum_name, forum_page) in pages_with_topics:\n",
    "    time.sleep(0.2)\n",
    "    forum_html_raw = simple_get(forum_page)\n",
    "    forum_html = BeautifulSoup(forum_html_raw)\n",
    "    for li in forum_html.findAll('li', class_ = [\"ipsDataItem\",\"ipsDataItem_responsivePhoto\"]):\n",
    "        a = li.findAll(\"a\",class_=\"\")[0]\n",
    "        title = a[\"title\"]\n",
    "        href = a[\"href\"]\n",
    "        pages = li.findAll('li', class_ = [\"ipsPagination_page\"])\n",
    "        if(len(pages) == 0):\n",
    "            nb_pages = '0'\n",
    "        else:\n",
    "            last_page = li.findAll('li', class_ = [\"ipsPagination_last\"])\n",
    "            if(len(last_page) == 0):\n",
    "                nb_pages = pages[len(pages)-1].text\n",
    "            else:\n",
    "                nb_pages = last_page[0].text\n",
    "        for div in li.findAll(\"div\", class_ = [\"ipsDataItem_meta\",\"ipsType_light\",\"ipsType_blendLinks\"]):\n",
    "            for span in div.select(\"span\"):\n",
    "                posted_by = span.text.replace('\\n', '').replace('\\t', '')\n",
    "            for time_date in div.select(\"time\"):\n",
    "                date_posted = time_date[\"datetime\"]\n",
    "        for ul in li.findAll(\"ul\", class_ = [\"ipsDataItem_stats\"]):\n",
    "            stats_topic = ul.text.replace(\"\\n\",\"\")\n",
    "        topics.append([forum_name,title,href,nb_pages,posted_by,date_posted,stats_topic])\n",
    "        \n",
    "print(datetime.now() - startTime)"
   ]
  },
  {
   "cell_type": "code",
   "execution_count": 8,
   "metadata": {},
   "outputs": [
    {
     "data": {
      "text/plain": [
       "60600"
      ]
     },
     "execution_count": 8,
     "metadata": {},
     "output_type": "execute_result"
    }
   ],
   "source": [
    "len(topics)"
   ]
  },
  {
   "cell_type": "code",
   "execution_count": 10,
   "metadata": {},
   "outputs": [],
   "source": [
    "df = pd.DataFrame(topics,columns = [\"forum_name\",\"topic_name\",\"url_topic\",\"nb_pages\",\"posted_by\",\"date_posted\",\"stats_topic\"])"
   ]
  },
  {
   "cell_type": "code",
   "execution_count": 11,
   "metadata": {},
   "outputs": [],
   "source": [
    "df['date_posted'] = pd.to_datetime(df['date_posted'])\n",
    "df['year'] = df.date_posted.apply(lambda x: x.year)"
   ]
  },
  {
   "cell_type": "code",
   "execution_count": 12,
   "metadata": {},
   "outputs": [
    {
     "data": {
      "text/plain": [
       "1970       2\n",
       "2003    2092\n",
       "2004    4400\n",
       "2005    5952\n",
       "2006    6086\n",
       "2007    6507\n",
       "2008    7071\n",
       "2009    6769\n",
       "2010    5609\n",
       "2011    4486\n",
       "2012    3177\n",
       "2013    2359\n",
       "2014    1924\n",
       "2015    1358\n",
       "2016    1208\n",
       "2017     945\n",
       "2018     647\n",
       "2019       8\n",
       "Name: year, dtype: int64"
      ]
     },
     "execution_count": 12,
     "metadata": {},
     "output_type": "execute_result"
    }
   ],
   "source": [
    "df['year'].value_counts().sort_index()"
   ]
  },
  {
   "cell_type": "code",
   "execution_count": 13,
   "metadata": {},
   "outputs": [],
   "source": [
    "df[[\"replies\",\"vues\"]] = df.stats_topic.apply(lambda x: x.replace(\"vues\",\"\").replace(\"s\",\"\")).str.split(\"répone\", expand = True)"
   ]
  },
  {
   "cell_type": "code",
   "execution_count": 14,
   "metadata": {},
   "outputs": [],
   "source": [
    "df[\"replies\"] = pd.to_numeric(df.replies.apply(lambda x: x.replace(\" \",\"\")))"
   ]
  },
  {
   "cell_type": "code",
   "execution_count": 15,
   "metadata": {},
   "outputs": [],
   "source": [
    "df[\"vues\"] = pd.to_numeric(df.vues.apply(lambda x: x.replace(\" \",\"\")))"
   ]
  },
  {
   "cell_type": "code",
   "execution_count": 23,
   "metadata": {},
   "outputs": [
    {
     "data": {
      "text/plain": [
       "616141"
      ]
     },
     "execution_count": 23,
     "metadata": {},
     "output_type": "execute_result"
    }
   ],
   "source": [
    "sum(df.replies)"
   ]
  },
  {
   "cell_type": "code",
   "execution_count": 17,
   "metadata": {},
   "outputs": [
    {
     "data": {
      "text/plain": [
       "138001632"
      ]
     },
     "execution_count": 17,
     "metadata": {},
     "output_type": "execute_result"
    }
   ],
   "source": [
    "sum(df.vues)"
   ]
  },
  {
   "cell_type": "code",
   "execution_count": 18,
   "metadata": {},
   "outputs": [
    {
     "data": {
      "text/plain": [
       "Français                                                  18480\n",
       "Organiser, préparer et gérer une classe en élémentaire    14680\n",
       "Mathématiques                                              6880\n",
       "Histoire et géographie                                     4040\n",
       "Sciences et technologies                                   3280\n",
       "Arts visuels                                               2760\n",
       "Musique                                                    2760\n",
       "Langues                                                    2560\n",
       "Thèmes et projets pour l'élémentaire                       2520\n",
       "E.P.S.                                                     1320\n",
       "Enseignement moral et civique                               760\n",
       "TICE à l'école élémentaire                                  440\n",
       "L'élémentaire au jour le jour                               120\n",
       "Name: forum_name, dtype: int64"
      ]
     },
     "execution_count": 18,
     "metadata": {},
     "output_type": "execute_result"
    }
   ],
   "source": [
    "df[\"forum_name\"].value_counts()"
   ]
  },
  {
   "cell_type": "code",
   "execution_count": 19,
   "metadata": {},
   "outputs": [
    {
     "data": {
      "text/html": [
       "<div>\n",
       "<style scoped>\n",
       "    .dataframe tbody tr th:only-of-type {\n",
       "        vertical-align: middle;\n",
       "    }\n",
       "\n",
       "    .dataframe tbody tr th {\n",
       "        vertical-align: top;\n",
       "    }\n",
       "\n",
       "    .dataframe thead th {\n",
       "        text-align: right;\n",
       "    }\n",
       "</style>\n",
       "<table border=\"1\" class=\"dataframe\">\n",
       "  <thead>\n",
       "    <tr style=\"text-align: right;\">\n",
       "      <th></th>\n",
       "      <th>replies</th>\n",
       "      <th>vues</th>\n",
       "    </tr>\n",
       "    <tr>\n",
       "      <th>forum_name</th>\n",
       "      <th></th>\n",
       "      <th></th>\n",
       "    </tr>\n",
       "  </thead>\n",
       "  <tbody>\n",
       "    <tr>\n",
       "      <th>Organiser, préparer et gérer une classe en élémentaire</th>\n",
       "      <td>193191</td>\n",
       "      <td>31416243</td>\n",
       "    </tr>\n",
       "    <tr>\n",
       "      <th>Français</th>\n",
       "      <td>130550</td>\n",
       "      <td>37033115</td>\n",
       "    </tr>\n",
       "    <tr>\n",
       "      <th>L'élémentaire au jour le jour</th>\n",
       "      <td>98436</td>\n",
       "      <td>7245988</td>\n",
       "    </tr>\n",
       "    <tr>\n",
       "      <th>Thèmes et projets pour l'élémentaire</th>\n",
       "      <td>52644</td>\n",
       "      <td>2334371</td>\n",
       "    </tr>\n",
       "    <tr>\n",
       "      <th>Mathématiques</th>\n",
       "      <td>42482</td>\n",
       "      <td>15391805</td>\n",
       "    </tr>\n",
       "    <tr>\n",
       "      <th>Histoire et géographie</th>\n",
       "      <td>21760</td>\n",
       "      <td>9003946</td>\n",
       "    </tr>\n",
       "    <tr>\n",
       "      <th>Arts visuels</th>\n",
       "      <td>16174</td>\n",
       "      <td>9077479</td>\n",
       "    </tr>\n",
       "    <tr>\n",
       "      <th>Sciences et technologies</th>\n",
       "      <td>15978</td>\n",
       "      <td>6396817</td>\n",
       "    </tr>\n",
       "    <tr>\n",
       "      <th>Langues</th>\n",
       "      <td>15736</td>\n",
       "      <td>5531530</td>\n",
       "    </tr>\n",
       "    <tr>\n",
       "      <th>Musique</th>\n",
       "      <td>14665</td>\n",
       "      <td>7902852</td>\n",
       "    </tr>\n",
       "    <tr>\n",
       "      <th>E.P.S.</th>\n",
       "      <td>5640</td>\n",
       "      <td>3245831</td>\n",
       "    </tr>\n",
       "    <tr>\n",
       "      <th>Enseignement moral et civique</th>\n",
       "      <td>5075</td>\n",
       "      <td>2705442</td>\n",
       "    </tr>\n",
       "    <tr>\n",
       "      <th>TICE à l'école élémentaire</th>\n",
       "      <td>3810</td>\n",
       "      <td>716213</td>\n",
       "    </tr>\n",
       "  </tbody>\n",
       "</table>\n",
       "</div>"
      ],
      "text/plain": [
       "                                                    replies      vues\n",
       "forum_name                                                           \n",
       "Organiser, préparer et gérer une classe en élém...   193191  31416243\n",
       "Français                                             130550  37033115\n",
       "L'élémentaire au jour le jour                         98436   7245988\n",
       "Thèmes et projets pour l'élémentaire                  52644   2334371\n",
       "Mathématiques                                         42482  15391805\n",
       "Histoire et géographie                                21760   9003946\n",
       "Arts visuels                                          16174   9077479\n",
       "Sciences et technologies                              15978   6396817\n",
       "Langues                                               15736   5531530\n",
       "Musique                                               14665   7902852\n",
       "E.P.S.                                                 5640   3245831\n",
       "Enseignement moral et civique                          5075   2705442\n",
       "TICE à l'école élémentaire                             3810    716213"
      ]
     },
     "execution_count": 19,
     "metadata": {},
     "output_type": "execute_result"
    }
   ],
   "source": [
    "df.groupby(\"forum_name\").sum().sort_values(\"replies\", ascending=False).drop(\"year\",axis=1)"
   ]
  },
  {
   "cell_type": "code",
   "execution_count": 22,
   "metadata": {},
   "outputs": [
    {
     "data": {
      "text/plain": [
       "12567"
      ]
     },
     "execution_count": 22,
     "metadata": {},
     "output_type": "execute_result"
    }
   ],
   "source": [
    "df['posted_by'].nunique()"
   ]
  },
  {
   "cell_type": "code",
   "execution_count": 20,
   "metadata": {},
   "outputs": [],
   "source": [
    "df.to_csv(\"/media/igna/Data/CRI_IA/Teacher_to_teacher/forum.csv\")"
   ]
  },
  {
   "cell_type": "code",
   "execution_count": null,
   "metadata": {},
   "outputs": [],
   "source": []
  },
  {
   "cell_type": "code",
   "execution_count": null,
   "metadata": {},
   "outputs": [],
   "source": []
  },
  {
   "cell_type": "code",
   "execution_count": null,
   "metadata": {},
   "outputs": [],
   "source": []
  },
  {
   "cell_type": "code",
   "execution_count": null,
   "metadata": {},
   "outputs": [],
   "source": []
  },
  {
   "cell_type": "markdown",
   "metadata": {},
   "source": [
    "https://machinelearningmastery.com/develop-word-embeddings-python-gensim/\n",
    "\n",
    "https://stackoverflow.com/questions/13131139/lemmatize-french-text\n",
    "\n",
    "http://www.nltk.org/api/nltk.stem.html#module-nltk.stem.regexp"
   ]
  },
  {
   "cell_type": "code",
   "execution_count": null,
   "metadata": {},
   "outputs": [],
   "source": []
  },
  {
   "cell_type": "code",
   "execution_count": null,
   "metadata": {},
   "outputs": [],
   "source": []
  },
  {
   "cell_type": "code",
   "execution_count": null,
   "metadata": {},
   "outputs": [],
   "source": []
  }
 ],
 "metadata": {
  "kernelspec": {
   "display_name": "Python 3",
   "language": "python",
   "name": "python3"
  },
  "language_info": {
   "codemirror_mode": {
    "name": "ipython",
    "version": 3
   },
   "file_extension": ".py",
   "mimetype": "text/x-python",
   "name": "python",
   "nbconvert_exporter": "python",
   "pygments_lexer": "ipython3",
   "version": "3.7.2"
  }
 },
 "nbformat": 4,
 "nbformat_minor": 2
}
