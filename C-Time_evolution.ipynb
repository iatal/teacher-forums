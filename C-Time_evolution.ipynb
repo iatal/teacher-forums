{
 "cells": [
  {
   "cell_type": "code",
   "execution_count": 4,
   "metadata": {},
   "outputs": [],
   "source": [
    "import json\n",
    "import os\n",
    "import random\n",
    "from nltk.stem.snowball import FrenchStemmer\n",
    "from nltk.tokenize import word_tokenize\n",
    "import nltk\n",
    "from nltk.corpus import stopwords\n",
    "import re\n",
    "from collections import defaultdict\n",
    "import pandas as pd\n",
    "import numpy as np\n",
    "import math\n",
    "import matplotlib.pyplot as plt"
   ]
  },
  {
   "cell_type": "code",
   "execution_count": 5,
   "metadata": {
    "scrolled": true
   },
   "outputs": [],
   "source": [
    "from ggplot import *"
   ]
  },
  {
   "cell_type": "code",
   "execution_count": 6,
   "metadata": {},
   "outputs": [],
   "source": [
    "data_topics = pd.read_csv(\"/media/igna/Data/CRI_IA/Teacher_to_teacher/forum.csv\")"
   ]
  },
  {
   "cell_type": "code",
   "execution_count": 7,
   "metadata": {},
   "outputs": [],
   "source": [
    "path = '/media/igna/Data/CRI_IA/Teacher_to_teacher/'\n",
    "fls = list(filter(lambda x:'data_' in x, os.listdir(path)))\n",
    "\n",
    "comments_list = []\n",
    "\n",
    "for one_file in fls:\n",
    "\n",
    "    with open(path + one_file) as json_data:\n",
    "        d = json.load(json_data)\n",
    "\n",
    "    for topic in d:\n",
    "        for article in topic[\"data_topic\"]:\n",
    "            art = dict((k, article[k]) for k in (\"author\",\"date_message\",\"nb_messages\"))\n",
    "            art[\"forum_name\"] = topic[\"forum_name\"]\n",
    "            art[\"topic_name\"] = topic[\"topic_name\"]\n",
    "            comments_list.append(art)\n",
    "        \n",
    "df = pd.DataFrame(comments_list)"
   ]
  },
  {
   "cell_type": "code",
   "execution_count": 8,
   "metadata": {
    "scrolled": true
   },
   "outputs": [
    {
     "data": {
      "text/plain": [
       "676757"
      ]
     },
     "execution_count": 8,
     "metadata": {},
     "output_type": "execute_result"
    }
   ],
   "source": [
    "len(df)"
   ]
  },
  {
   "cell_type": "code",
   "execution_count": 9,
   "metadata": {},
   "outputs": [],
   "source": [
    "df['date_message'] = pd.to_datetime(df['date_message'])\n",
    "df['year'] = df.date_message.apply(lambda x: x.year)"
   ]
  },
  {
   "cell_type": "code",
   "execution_count": 10,
   "metadata": {},
   "outputs": [],
   "source": [
    "df['month'] = df.date_message.apply(lambda x: x.month)"
   ]
  },
  {
   "cell_type": "code",
   "execution_count": 11,
   "metadata": {},
   "outputs": [
    {
     "data": {
      "text/plain": [
       "2003    20417\n",
       "2004    36217\n",
       "2005    42355\n",
       "2006    39681\n",
       "2007    45715\n",
       "2008    51730\n",
       "2009    57178\n",
       "2010    58768\n",
       "2011    56240\n",
       "2012    60141\n",
       "2013    48444\n",
       "2014    44677\n",
       "2015    44306\n",
       "2016    36814\n",
       "2017    18028\n",
       "2018    15694\n",
       "2019      352\n",
       "Name: year, dtype: int64"
      ]
     },
     "execution_count": 11,
     "metadata": {},
     "output_type": "execute_result"
    }
   ],
   "source": [
    "df['year'].value_counts().sort_index()"
   ]
  },
  {
   "cell_type": "code",
   "execution_count": 12,
   "metadata": {},
   "outputs": [
    {
     "data": {
      "text/plain": [
       "Organiser, préparer et gérer une classe en élémentaire    207880\n",
       "Français                                                  149034\n",
       "L'élémentaire au jour le jour                              98558\n",
       "Thèmes et projets pour l'élémentaire                       55164\n",
       "Mathématiques                                              49361\n",
       "Histoire et géographie                                     25801\n",
       "Sciences et technologies                                   19258\n",
       "Arts visuels                                               18934\n",
       "Langues                                                    18296\n",
       "Musique                                                    17426\n",
       "E.P.S.                                                      6960\n",
       "Enseignement moral et civique                               5835\n",
       "TICE à l'école élémentaire                                  4250\n",
       "Name: forum_name, dtype: int64"
      ]
     },
     "execution_count": 12,
     "metadata": {},
     "output_type": "execute_result"
    }
   ],
   "source": [
    "df[\"forum_name\"].value_counts()"
   ]
  },
  {
   "cell_type": "code",
   "execution_count": 13,
   "metadata": {},
   "outputs": [
    {
     "data": {
      "text/plain": [
       "21559"
      ]
     },
     "execution_count": 13,
     "metadata": {},
     "output_type": "execute_result"
    }
   ],
   "source": [
    "df['author'].nunique()"
   ]
  },
  {
   "cell_type": "code",
   "execution_count": 14,
   "metadata": {},
   "outputs": [
    {
     "data": {
      "text/plain": [
       "Timedelta('5826 days 20:21:27')"
      ]
     },
     "execution_count": 14,
     "metadata": {},
     "output_type": "execute_result"
    }
   ],
   "source": [
    "df[\"date_message\"].max() - df[\"date_message\"].min()"
   ]
  },
  {
   "cell_type": "code",
   "execution_count": 15,
   "metadata": {},
   "outputs": [
    {
     "data": {
      "text/plain": [
       "(array([20417., 36217., 42355., 39681., 45715., 51730., 57178., 58768.,\n",
       "        56240., 60141., 48444., 44677., 44306., 36814., 18028., 16046.]),\n",
       " array([2003, 2004, 2005, 2006, 2007, 2008, 2009, 2010, 2011, 2012, 2013,\n",
       "        2014, 2015, 2016, 2017, 2018, 2019]),\n",
       " <a list of 16 Patch objects>)"
      ]
     },
     "execution_count": 15,
     "metadata": {},
     "output_type": "execute_result"
    },
    {
     "data": {
      "image/png": "[encoded data removed]",
      "text/plain": [
       "<Figure size 432x288 with 1 Axes>"
      ]
     },
     "metadata": {
      "needs_background": "light"
     },
     "output_type": "display_data"
    }
   ],
   "source": [
    "plt.hist(df.year,bins=range(2003,2020))"
   ]
  },
  {
   "cell_type": "code",
   "execution_count": 16,
   "metadata": {},
   "outputs": [],
   "source": [
    "plt.rcParams[\"figure.figsize\"] = [20,10]"
   ]
  },
  {
   "cell_type": "code",
   "execution_count": 17,
   "metadata": {
    "scrolled": true
   },
   "outputs": [],
   "source": [
    "data = df.groupby([df[\"year\"], df[\"month\"]]).year.count()"
   ]
  },
  {
   "cell_type": "code",
   "execution_count": 18,
   "metadata": {},
   "outputs": [
    {
     "data": {
      "text/plain": [
       "7"
      ]
     },
     "execution_count": 18,
     "metadata": {},
     "output_type": "execute_result"
    }
   ],
   "source": [
    "data[2003].values.argmax()"
   ]
  },
  {
   "cell_type": "code",
   "execution_count": 19,
   "metadata": {},
   "outputs": [
    {
     "data": {
      "text/plain": [
       "6781"
      ]
     },
     "execution_count": 19,
     "metadata": {},
     "output_type": "execute_result"
    }
   ],
   "source": [
    "df.groupby([df[\"year\"], df[\"month\"]]).year.count()[2010][9]"
   ]
  },
  {
   "cell_type": "code",
   "execution_count": 20,
   "metadata": {
    "scrolled": false
   },
   "outputs": [
    {
     "data": {
      "text/plain": [
       "<matplotlib.axes._subplots.AxesSubplot at 0x7ffac06ecac8>"
      ]
     },
     "execution_count": 20,
     "metadata": {},
     "output_type": "execute_result"
    },
    {
     "data": {
      "image/png": "[encoded data removed]",
      "text/plain": [
       "<Figure size 1440x720 with 1 Axes>"
      ]
     },
     "metadata": {
      "needs_background": "light"
     },
     "output_type": "display_data"
    }
   ],
   "source": [
    "i = 7\n",
    "for y in range(2003,2019):\n",
    "    plt.text(i-1,df.groupby([df[\"year\"], df[\"month\"]]).year.count()[y][8]+100,\"Aug\")\n",
    "    i = i+12\n",
    "    plt.text(i-8,0,str(y))\n",
    "\n",
    "df.groupby([df[\"year\"], df[\"month\"]]).year.count().plot()"
   ]
  },
  {
   "cell_type": "code",
   "execution_count": 21,
   "metadata": {},
   "outputs": [
    {
     "data": {
      "text/plain": [
       "Index(['author', 'date_message', 'forum_name', 'nb_messages', 'topic_name',\n",
       "       'year', 'month'],\n",
       "      dtype='object')"
      ]
     },
     "execution_count": 21,
     "metadata": {},
     "output_type": "execute_result"
    }
   ],
   "source": [
    "df.columns"
   ]
  },
  {
   "cell_type": "code",
   "execution_count": 22,
   "metadata": {},
   "outputs": [],
   "source": [
    "df['weekday'] = df.date_message.apply(lambda x: x.weekday())"
   ]
  },
  {
   "cell_type": "code",
   "execution_count": 23,
   "metadata": {},
   "outputs": [],
   "source": [
    "df['day'] = df.date_message.apply(lambda x: x.day)"
   ]
  },
  {
   "cell_type": "code",
   "execution_count": 24,
   "metadata": {},
   "outputs": [],
   "source": [
    "df.to_csv(\"/media/igna/Data/CRI_IA/Teacher_to_teacher/time_data.csv\")"
   ]
  },
  {
   "cell_type": "code",
   "execution_count": 25,
   "metadata": {
    "scrolled": true
   },
   "outputs": [],
   "source": [
    "dweek = df.loc[df.year == 2009].groupby([df[\"month\"], df[\"weekday\"]]).count()"
   ]
  },
  {
   "cell_type": "code",
   "execution_count": 26,
   "metadata": {},
   "outputs": [],
   "source": [
    "dweek = dweek.add_suffix('_Count').reset_index()"
   ]
  },
  {
   "cell_type": "code",
   "execution_count": 27,
   "metadata": {},
   "outputs": [],
   "source": [
    "dweek = dweek.loc[:, ['month','weekday','weekday_Count']]"
   ]
  },
  {
   "cell_type": "code",
   "execution_count": 28,
   "metadata": {
    "scrolled": true
   },
   "outputs": [
    {
     "data": {
      "text/html": [
       "<div>\n",
       "<style scoped>\n",
       "    .dataframe tbody tr th:only-of-type {\n",
       "        vertical-align: middle;\n",
       "    }\n",
       "\n",
       "    .dataframe tbody tr th {\n",
       "        vertical-align: top;\n",
       "    }\n",
       "\n",
       "    .dataframe thead th {\n",
       "        text-align: right;\n",
       "    }\n",
       "</style>\n",
       "<table border=\"1\" class=\"dataframe\">\n",
       "  <thead>\n",
       "    <tr style=\"text-align: right;\">\n",
       "      <th></th>\n",
       "      <th>month</th>\n",
       "      <th>weekday</th>\n",
       "      <th>weekday_Count</th>\n",
       "    </tr>\n",
       "  </thead>\n",
       "  <tbody>\n",
       "    <tr>\n",
       "      <th>0</th>\n",
       "      <td>1</td>\n",
       "      <td>0</td>\n",
       "      <td>298</td>\n",
       "    </tr>\n",
       "    <tr>\n",
       "      <th>1</th>\n",
       "      <td>1</td>\n",
       "      <td>1</td>\n",
       "      <td>333</td>\n",
       "    </tr>\n",
       "    <tr>\n",
       "      <th>2</th>\n",
       "      <td>1</td>\n",
       "      <td>2</td>\n",
       "      <td>719</td>\n",
       "    </tr>\n",
       "    <tr>\n",
       "      <th>3</th>\n",
       "      <td>1</td>\n",
       "      <td>3</td>\n",
       "      <td>394</td>\n",
       "    </tr>\n",
       "    <tr>\n",
       "      <th>4</th>\n",
       "      <td>1</td>\n",
       "      <td>4</td>\n",
       "      <td>356</td>\n",
       "    </tr>\n",
       "    <tr>\n",
       "      <th>5</th>\n",
       "      <td>1</td>\n",
       "      <td>5</td>\n",
       "      <td>631</td>\n",
       "    </tr>\n",
       "    <tr>\n",
       "      <th>6</th>\n",
       "      <td>1</td>\n",
       "      <td>6</td>\n",
       "      <td>717</td>\n",
       "    </tr>\n",
       "    <tr>\n",
       "      <th>7</th>\n",
       "      <td>2</td>\n",
       "      <td>0</td>\n",
       "      <td>362</td>\n",
       "    </tr>\n",
       "    <tr>\n",
       "      <th>8</th>\n",
       "      <td>2</td>\n",
       "      <td>1</td>\n",
       "      <td>358</td>\n",
       "    </tr>\n",
       "    <tr>\n",
       "      <th>9</th>\n",
       "      <td>2</td>\n",
       "      <td>2</td>\n",
       "      <td>617</td>\n",
       "    </tr>\n",
       "    <tr>\n",
       "      <th>10</th>\n",
       "      <td>2</td>\n",
       "      <td>3</td>\n",
       "      <td>379</td>\n",
       "    </tr>\n",
       "    <tr>\n",
       "      <th>11</th>\n",
       "      <td>2</td>\n",
       "      <td>4</td>\n",
       "      <td>349</td>\n",
       "    </tr>\n",
       "    <tr>\n",
       "      <th>12</th>\n",
       "      <td>2</td>\n",
       "      <td>5</td>\n",
       "      <td>417</td>\n",
       "    </tr>\n",
       "    <tr>\n",
       "      <th>13</th>\n",
       "      <td>2</td>\n",
       "      <td>6</td>\n",
       "      <td>489</td>\n",
       "    </tr>\n",
       "    <tr>\n",
       "      <th>14</th>\n",
       "      <td>3</td>\n",
       "      <td>0</td>\n",
       "      <td>369</td>\n",
       "    </tr>\n",
       "    <tr>\n",
       "      <th>15</th>\n",
       "      <td>3</td>\n",
       "      <td>1</td>\n",
       "      <td>399</td>\n",
       "    </tr>\n",
       "    <tr>\n",
       "      <th>16</th>\n",
       "      <td>3</td>\n",
       "      <td>2</td>\n",
       "      <td>554</td>\n",
       "    </tr>\n",
       "    <tr>\n",
       "      <th>17</th>\n",
       "      <td>3</td>\n",
       "      <td>3</td>\n",
       "      <td>358</td>\n",
       "    </tr>\n",
       "    <tr>\n",
       "      <th>18</th>\n",
       "      <td>3</td>\n",
       "      <td>4</td>\n",
       "      <td>297</td>\n",
       "    </tr>\n",
       "    <tr>\n",
       "      <th>19</th>\n",
       "      <td>3</td>\n",
       "      <td>5</td>\n",
       "      <td>458</td>\n",
       "    </tr>\n",
       "    <tr>\n",
       "      <th>20</th>\n",
       "      <td>3</td>\n",
       "      <td>6</td>\n",
       "      <td>793</td>\n",
       "    </tr>\n",
       "    <tr>\n",
       "      <th>21</th>\n",
       "      <td>4</td>\n",
       "      <td>0</td>\n",
       "      <td>381</td>\n",
       "    </tr>\n",
       "    <tr>\n",
       "      <th>22</th>\n",
       "      <td>4</td>\n",
       "      <td>1</td>\n",
       "      <td>428</td>\n",
       "    </tr>\n",
       "    <tr>\n",
       "      <th>23</th>\n",
       "      <td>4</td>\n",
       "      <td>2</td>\n",
       "      <td>767</td>\n",
       "    </tr>\n",
       "    <tr>\n",
       "      <th>24</th>\n",
       "      <td>4</td>\n",
       "      <td>3</td>\n",
       "      <td>423</td>\n",
       "    </tr>\n",
       "    <tr>\n",
       "      <th>25</th>\n",
       "      <td>4</td>\n",
       "      <td>4</td>\n",
       "      <td>305</td>\n",
       "    </tr>\n",
       "    <tr>\n",
       "      <th>26</th>\n",
       "      <td>4</td>\n",
       "      <td>5</td>\n",
       "      <td>299</td>\n",
       "    </tr>\n",
       "    <tr>\n",
       "      <th>27</th>\n",
       "      <td>4</td>\n",
       "      <td>6</td>\n",
       "      <td>408</td>\n",
       "    </tr>\n",
       "    <tr>\n",
       "      <th>28</th>\n",
       "      <td>5</td>\n",
       "      <td>0</td>\n",
       "      <td>398</td>\n",
       "    </tr>\n",
       "    <tr>\n",
       "      <th>29</th>\n",
       "      <td>5</td>\n",
       "      <td>1</td>\n",
       "      <td>469</td>\n",
       "    </tr>\n",
       "    <tr>\n",
       "      <th>...</th>\n",
       "      <td>...</td>\n",
       "      <td>...</td>\n",
       "      <td>...</td>\n",
       "    </tr>\n",
       "    <tr>\n",
       "      <th>54</th>\n",
       "      <td>8</td>\n",
       "      <td>5</td>\n",
       "      <td>1267</td>\n",
       "    </tr>\n",
       "    <tr>\n",
       "      <th>55</th>\n",
       "      <td>8</td>\n",
       "      <td>6</td>\n",
       "      <td>1391</td>\n",
       "    </tr>\n",
       "    <tr>\n",
       "      <th>56</th>\n",
       "      <td>9</td>\n",
       "      <td>0</td>\n",
       "      <td>574</td>\n",
       "    </tr>\n",
       "    <tr>\n",
       "      <th>57</th>\n",
       "      <td>9</td>\n",
       "      <td>1</td>\n",
       "      <td>798</td>\n",
       "    </tr>\n",
       "    <tr>\n",
       "      <th>58</th>\n",
       "      <td>9</td>\n",
       "      <td>2</td>\n",
       "      <td>1984</td>\n",
       "    </tr>\n",
       "    <tr>\n",
       "      <th>59</th>\n",
       "      <td>9</td>\n",
       "      <td>3</td>\n",
       "      <td>589</td>\n",
       "    </tr>\n",
       "    <tr>\n",
       "      <th>60</th>\n",
       "      <td>9</td>\n",
       "      <td>4</td>\n",
       "      <td>460</td>\n",
       "    </tr>\n",
       "    <tr>\n",
       "      <th>61</th>\n",
       "      <td>9</td>\n",
       "      <td>5</td>\n",
       "      <td>1303</td>\n",
       "    </tr>\n",
       "    <tr>\n",
       "      <th>62</th>\n",
       "      <td>9</td>\n",
       "      <td>6</td>\n",
       "      <td>1535</td>\n",
       "    </tr>\n",
       "    <tr>\n",
       "      <th>63</th>\n",
       "      <td>10</td>\n",
       "      <td>0</td>\n",
       "      <td>447</td>\n",
       "    </tr>\n",
       "    <tr>\n",
       "      <th>64</th>\n",
       "      <td>10</td>\n",
       "      <td>1</td>\n",
       "      <td>408</td>\n",
       "    </tr>\n",
       "    <tr>\n",
       "      <th>65</th>\n",
       "      <td>10</td>\n",
       "      <td>2</td>\n",
       "      <td>1005</td>\n",
       "    </tr>\n",
       "    <tr>\n",
       "      <th>66</th>\n",
       "      <td>10</td>\n",
       "      <td>3</td>\n",
       "      <td>740</td>\n",
       "    </tr>\n",
       "    <tr>\n",
       "      <th>67</th>\n",
       "      <td>10</td>\n",
       "      <td>4</td>\n",
       "      <td>555</td>\n",
       "    </tr>\n",
       "    <tr>\n",
       "      <th>68</th>\n",
       "      <td>10</td>\n",
       "      <td>5</td>\n",
       "      <td>834</td>\n",
       "    </tr>\n",
       "    <tr>\n",
       "      <th>69</th>\n",
       "      <td>10</td>\n",
       "      <td>6</td>\n",
       "      <td>931</td>\n",
       "    </tr>\n",
       "    <tr>\n",
       "      <th>70</th>\n",
       "      <td>11</td>\n",
       "      <td>0</td>\n",
       "      <td>695</td>\n",
       "    </tr>\n",
       "    <tr>\n",
       "      <th>71</th>\n",
       "      <td>11</td>\n",
       "      <td>1</td>\n",
       "      <td>621</td>\n",
       "    </tr>\n",
       "    <tr>\n",
       "      <th>72</th>\n",
       "      <td>11</td>\n",
       "      <td>2</td>\n",
       "      <td>1108</td>\n",
       "    </tr>\n",
       "    <tr>\n",
       "      <th>73</th>\n",
       "      <td>11</td>\n",
       "      <td>3</td>\n",
       "      <td>412</td>\n",
       "    </tr>\n",
       "    <tr>\n",
       "      <th>74</th>\n",
       "      <td>11</td>\n",
       "      <td>4</td>\n",
       "      <td>305</td>\n",
       "    </tr>\n",
       "    <tr>\n",
       "      <th>75</th>\n",
       "      <td>11</td>\n",
       "      <td>5</td>\n",
       "      <td>719</td>\n",
       "    </tr>\n",
       "    <tr>\n",
       "      <th>76</th>\n",
       "      <td>11</td>\n",
       "      <td>6</td>\n",
       "      <td>966</td>\n",
       "    </tr>\n",
       "    <tr>\n",
       "      <th>77</th>\n",
       "      <td>12</td>\n",
       "      <td>0</td>\n",
       "      <td>373</td>\n",
       "    </tr>\n",
       "    <tr>\n",
       "      <th>78</th>\n",
       "      <td>12</td>\n",
       "      <td>1</td>\n",
       "      <td>479</td>\n",
       "    </tr>\n",
       "    <tr>\n",
       "      <th>79</th>\n",
       "      <td>12</td>\n",
       "      <td>2</td>\n",
       "      <td>741</td>\n",
       "    </tr>\n",
       "    <tr>\n",
       "      <th>80</th>\n",
       "      <td>12</td>\n",
       "      <td>3</td>\n",
       "      <td>334</td>\n",
       "    </tr>\n",
       "    <tr>\n",
       "      <th>81</th>\n",
       "      <td>12</td>\n",
       "      <td>4</td>\n",
       "      <td>165</td>\n",
       "    </tr>\n",
       "    <tr>\n",
       "      <th>82</th>\n",
       "      <td>12</td>\n",
       "      <td>5</td>\n",
       "      <td>294</td>\n",
       "    </tr>\n",
       "    <tr>\n",
       "      <th>83</th>\n",
       "      <td>12</td>\n",
       "      <td>6</td>\n",
       "      <td>369</td>\n",
       "    </tr>\n",
       "  </tbody>\n",
       "</table>\n",
       "<p>84 rows × 3 columns</p>\n",
       "</div>"
      ],
      "text/plain": [
       "    month  weekday  weekday_Count\n",
       "0       1        0            298\n",
       "1       1        1            333\n",
       "2       1        2            719\n",
       "3       1        3            394\n",
       "4       1        4            356\n",
       "5       1        5            631\n",
       "6       1        6            717\n",
       "7       2        0            362\n",
       "8       2        1            358\n",
       "9       2        2            617\n",
       "10      2        3            379\n",
       "11      2        4            349\n",
       "12      2        5            417\n",
       "13      2        6            489\n",
       "14      3        0            369\n",
       "15      3        1            399\n",
       "16      3        2            554\n",
       "17      3        3            358\n",
       "18      3        4            297\n",
       "19      3        5            458\n",
       "20      3        6            793\n",
       "21      4        0            381\n",
       "22      4        1            428\n",
       "23      4        2            767\n",
       "24      4        3            423\n",
       "25      4        4            305\n",
       "26      4        5            299\n",
       "27      4        6            408\n",
       "28      5        0            398\n",
       "29      5        1            469\n",
       "..    ...      ...            ...\n",
       "54      8        5           1267\n",
       "55      8        6           1391\n",
       "56      9        0            574\n",
       "57      9        1            798\n",
       "58      9        2           1984\n",
       "59      9        3            589\n",
       "60      9        4            460\n",
       "61      9        5           1303\n",
       "62      9        6           1535\n",
       "63     10        0            447\n",
       "64     10        1            408\n",
       "65     10        2           1005\n",
       "66     10        3            740\n",
       "67     10        4            555\n",
       "68     10        5            834\n",
       "69     10        6            931\n",
       "70     11        0            695\n",
       "71     11        1            621\n",
       "72     11        2           1108\n",
       "73     11        3            412\n",
       "74     11        4            305\n",
       "75     11        5            719\n",
       "76     11        6            966\n",
       "77     12        0            373\n",
       "78     12        1            479\n",
       "79     12        2            741\n",
       "80     12        3            334\n",
       "81     12        4            165\n",
       "82     12        5            294\n",
       "83     12        6            369\n",
       "\n",
       "[84 rows x 3 columns]"
      ]
     },
     "execution_count": 28,
     "metadata": {},
     "output_type": "execute_result"
    }
   ],
   "source": [
    "dweek"
   ]
  },
  {
   "cell_type": "code",
   "execution_count": null,
   "metadata": {},
   "outputs": [],
   "source": []
  },
  {
   "cell_type": "code",
   "execution_count": 29,
   "metadata": {},
   "outputs": [],
   "source": [
    "def max_min(x):\n",
    "    return x.max() - x.min()\n",
    "\n",
    "max_min.__name__ = 'time_range'\n",
    "\n",
    "auth_daf = df.groupby('author').agg({'forum_name':['count','nunique'], \n",
    "                                     'topic_name':'nunique', \n",
    "                                     'date_message':['min',max_min,'max']})"
   ]
  },
  {
   "cell_type": "code",
   "execution_count": 30,
   "metadata": {},
   "outputs": [],
   "source": [
    "auth_daf['days'] = auth_daf.date_message.time_range.apply(lambda x: x.days)"
   ]
  },
  {
   "cell_type": "code",
   "execution_count": 31,
   "metadata": {},
   "outputs": [],
   "source": [
    "time_range_users = pd.DataFrame(auth_daf.days.groupby(pd.cut(auth_daf['days'], np.arange(0,math.ceil(auth_daf.days.max()/365)*365,365))).count())"
   ]
  },
  {
   "cell_type": "code",
   "execution_count": 32,
   "metadata": {},
   "outputs": [],
   "source": [
    "time_range_users[\"years\"] = range(0,len(time_range_users))"
   ]
  },
  {
   "cell_type": "code",
   "execution_count": 33,
   "metadata": {},
   "outputs": [],
   "source": [
    "time_range_users = time_range_users.sort_values(\"years\",ascending=False)"
   ]
  },
  {
   "cell_type": "code",
   "execution_count": 34,
   "metadata": {},
   "outputs": [],
   "source": [
    "time_range_users[\"cumsum_days\"] = time_range_users.days.cumsum()"
   ]
  },
  {
   "cell_type": "code",
   "execution_count": 35,
   "metadata": {},
   "outputs": [
    {
     "data": {
      "text/plain": [
       "(14, 0)"
      ]
     },
     "execution_count": 35,
     "metadata": {},
     "output_type": "execute_result"
    },
    {
     "data": {
      "image/png": "[encoded data removed]",
      "text/plain": [
       "<Figure size 1440x720 with 1 Axes>"
      ]
     },
     "metadata": {
      "needs_background": "light"
     },
     "output_type": "display_data"
    }
   ],
   "source": [
    "plt.plot(time_range_users[\"years\"],time_range_users[\"cumsum_days\"])\n",
    "plt.xlim(14, 0)"
   ]
  },
  {
   "cell_type": "code",
   "execution_count": 36,
   "metadata": {},
   "outputs": [
    {
     "data": {
      "text/plain": [
       "3952"
      ]
     },
     "execution_count": 36,
     "metadata": {},
     "output_type": "execute_result"
    }
   ],
   "source": [
    "len(auth_daf[auth_daf.days > 365*4])"
   ]
  },
  {
   "cell_type": "code",
   "execution_count": 37,
   "metadata": {
    "scrolled": true
   },
   "outputs": [
    {
     "data": {
      "text/html": [
       "<div>\n",
       "<style scoped>\n",
       "    .dataframe tbody tr th:only-of-type {\n",
       "        vertical-align: middle;\n",
       "    }\n",
       "\n",
       "    .dataframe tbody tr th {\n",
       "        vertical-align: top;\n",
       "    }\n",
       "\n",
       "    .dataframe thead tr th {\n",
       "        text-align: left;\n",
       "    }\n",
       "\n",
       "    .dataframe thead tr:last-of-type th {\n",
       "        text-align: right;\n",
       "    }\n",
       "</style>\n",
       "<table border=\"1\" class=\"dataframe\">\n",
       "  <thead>\n",
       "    <tr>\n",
       "      <th></th>\n",
       "      <th colspan=\"2\" halign=\"left\">forum_name</th>\n",
       "      <th>topic_name</th>\n",
       "      <th colspan=\"3\" halign=\"left\">date_message</th>\n",
       "      <th>days</th>\n",
       "    </tr>\n",
       "    <tr>\n",
       "      <th></th>\n",
       "      <th>count</th>\n",
       "      <th>nunique</th>\n",
       "      <th>nunique</th>\n",
       "      <th>min</th>\n",
       "      <th>time_range</th>\n",
       "      <th>max</th>\n",
       "      <th></th>\n",
       "    </tr>\n",
       "    <tr>\n",
       "      <th>author</th>\n",
       "      <th></th>\n",
       "      <th></th>\n",
       "      <th></th>\n",
       "      <th></th>\n",
       "      <th></th>\n",
       "      <th></th>\n",
       "      <th></th>\n",
       "    </tr>\n",
       "  </thead>\n",
       "  <tbody>\n",
       "    <tr>\n",
       "      <th>mamiebrossard</th>\n",
       "      <td>6069</td>\n",
       "      <td>13</td>\n",
       "      <td>2883</td>\n",
       "      <td>2003-02-12 10:08:51</td>\n",
       "      <td>5806 days 21:37:01</td>\n",
       "      <td>2019-01-06 07:45:52</td>\n",
       "      <td>5806</td>\n",
       "    </tr>\n",
       "    <tr>\n",
       "      <th>Charivari</th>\n",
       "      <td>5397</td>\n",
       "      <td>13</td>\n",
       "      <td>2097</td>\n",
       "      <td>2006-03-21 11:08:34</td>\n",
       "      <td>4171 days 08:58:14</td>\n",
       "      <td>2017-08-21 20:06:48</td>\n",
       "      <td>4171</td>\n",
       "    </tr>\n",
       "    <tr>\n",
       "      <th>sandrine062</th>\n",
       "      <td>3762</td>\n",
       "      <td>13</td>\n",
       "      <td>1303</td>\n",
       "      <td>2005-10-18 11:28:52</td>\n",
       "      <td>4795 days 20:57:48</td>\n",
       "      <td>2018-12-05 08:26:40</td>\n",
       "      <td>4795</td>\n",
       "    </tr>\n",
       "    <tr>\n",
       "      <th>Petit_Gizmo</th>\n",
       "      <td>3473</td>\n",
       "      <td>13</td>\n",
       "      <td>1448</td>\n",
       "      <td>2003-02-25 09:19:17</td>\n",
       "      <td>5657 days 05:30:22</td>\n",
       "      <td>2018-08-22 14:49:39</td>\n",
       "      <td>5657</td>\n",
       "    </tr>\n",
       "    <tr>\n",
       "      <th>titebouillotte</th>\n",
       "      <td>2858</td>\n",
       "      <td>10</td>\n",
       "      <td>216</td>\n",
       "      <td>2008-10-18 10:41:13</td>\n",
       "      <td>3177 days 04:00:24</td>\n",
       "      <td>2017-06-30 14:41:37</td>\n",
       "      <td>3177</td>\n",
       "    </tr>\n",
       "    <tr>\n",
       "      <th>Princesse Dézécole</th>\n",
       "      <td>2788</td>\n",
       "      <td>13</td>\n",
       "      <td>1531</td>\n",
       "      <td>2003-09-20 14:25:07</td>\n",
       "      <td>5543 days 03:42:52</td>\n",
       "      <td>2018-11-23 18:07:59</td>\n",
       "      <td>5543</td>\n",
       "    </tr>\n",
       "    <tr>\n",
       "      <th>dhaiphi</th>\n",
       "      <td>2541</td>\n",
       "      <td>12</td>\n",
       "      <td>1260</td>\n",
       "      <td>2004-02-21 21:11:58</td>\n",
       "      <td>3016 days 18:57:24</td>\n",
       "      <td>2012-05-26 16:09:22</td>\n",
       "      <td>3016</td>\n",
       "    </tr>\n",
       "    <tr>\n",
       "      <th>Lapin bondissant</th>\n",
       "      <td>2533</td>\n",
       "      <td>11</td>\n",
       "      <td>1300</td>\n",
       "      <td>2003-02-15 19:36:28</td>\n",
       "      <td>3001 days 00:20:29</td>\n",
       "      <td>2011-05-05 19:56:57</td>\n",
       "      <td>3001</td>\n",
       "    </tr>\n",
       "    <tr>\n",
       "      <th>Théoboulo</th>\n",
       "      <td>2515</td>\n",
       "      <td>13</td>\n",
       "      <td>551</td>\n",
       "      <td>2007-07-26 15:14:31</td>\n",
       "      <td>3573 days 18:20:09</td>\n",
       "      <td>2017-05-08 09:34:40</td>\n",
       "      <td>3573</td>\n",
       "    </tr>\n",
       "    <tr>\n",
       "      <th>sanleane</th>\n",
       "      <td>2493</td>\n",
       "      <td>12</td>\n",
       "      <td>379</td>\n",
       "      <td>2010-03-06 21:26:11</td>\n",
       "      <td>3153 days 08:36:40</td>\n",
       "      <td>2018-10-24 06:02:51</td>\n",
       "      <td>3153</td>\n",
       "    </tr>\n",
       "    <tr>\n",
       "      <th>cpette</th>\n",
       "      <td>2473</td>\n",
       "      <td>13</td>\n",
       "      <td>375</td>\n",
       "      <td>2008-03-15 20:26:24</td>\n",
       "      <td>3675 days 13:07:06</td>\n",
       "      <td>2018-04-08 09:33:30</td>\n",
       "      <td>3675</td>\n",
       "    </tr>\n",
       "    <tr>\n",
       "      <th>Bla67</th>\n",
       "      <td>2449</td>\n",
       "      <td>12</td>\n",
       "      <td>297</td>\n",
       "      <td>2011-08-28 11:32:22</td>\n",
       "      <td>2151 days 10:42:16</td>\n",
       "      <td>2017-07-18 22:14:38</td>\n",
       "      <td>2151</td>\n",
       "    </tr>\n",
       "    <tr>\n",
       "      <th>André Jorge</th>\n",
       "      <td>2424</td>\n",
       "      <td>13</td>\n",
       "      <td>2044</td>\n",
       "      <td>2003-02-09 06:54:37</td>\n",
       "      <td>5770 days 10:34:00</td>\n",
       "      <td>2018-11-27 17:28:37</td>\n",
       "      <td>5770</td>\n",
       "    </tr>\n",
       "    <tr>\n",
       "      <th>Japet</th>\n",
       "      <td>2382</td>\n",
       "      <td>12</td>\n",
       "      <td>485</td>\n",
       "      <td>2008-11-22 22:44:36</td>\n",
       "      <td>3056 days 17:37:11</td>\n",
       "      <td>2017-04-06 16:21:47</td>\n",
       "      <td>3056</td>\n",
       "    </tr>\n",
       "    <tr>\n",
       "      <th>ouioui</th>\n",
       "      <td>2352</td>\n",
       "      <td>12</td>\n",
       "      <td>1430</td>\n",
       "      <td>2004-02-26 21:52:05</td>\n",
       "      <td>4197 days 08:37:49</td>\n",
       "      <td>2015-08-25 06:29:54</td>\n",
       "      <td>4197</td>\n",
       "    </tr>\n",
       "    <tr>\n",
       "      <th>boubiz</th>\n",
       "      <td>2331</td>\n",
       "      <td>11</td>\n",
       "      <td>416</td>\n",
       "      <td>2009-09-19 07:55:58</td>\n",
       "      <td>3318 days 21:39:23</td>\n",
       "      <td>2018-10-21 05:35:21</td>\n",
       "      <td>3318</td>\n",
       "    </tr>\n",
       "    <tr>\n",
       "      <th>Nath</th>\n",
       "      <td>2283</td>\n",
       "      <td>13</td>\n",
       "      <td>1589</td>\n",
       "      <td>2003-02-04 15:03:00</td>\n",
       "      <td>5268 days 20:11:31</td>\n",
       "      <td>2017-07-09 11:14:31</td>\n",
       "      <td>5268</td>\n",
       "    </tr>\n",
       "    <tr>\n",
       "      <th>helenel</th>\n",
       "      <td>2220</td>\n",
       "      <td>13</td>\n",
       "      <td>1047</td>\n",
       "      <td>2008-07-08 13:34:18</td>\n",
       "      <td>3840 days 21:41:49</td>\n",
       "      <td>2019-01-13 11:16:07</td>\n",
       "      <td>3840</td>\n",
       "    </tr>\n",
       "    <tr>\n",
       "      <th>hamster</th>\n",
       "      <td>2125</td>\n",
       "      <td>13</td>\n",
       "      <td>946</td>\n",
       "      <td>2003-03-16 16:12:54</td>\n",
       "      <td>5779 days 05:45:26</td>\n",
       "      <td>2019-01-10 21:58:20</td>\n",
       "      <td>5779</td>\n",
       "    </tr>\n",
       "  </tbody>\n",
       "</table>\n",
       "</div>"
      ],
      "text/plain": [
       "                   forum_name         topic_name        date_message  \\\n",
       "                        count nunique    nunique                 min   \n",
       "author                                                                 \n",
       "mamiebrossard            6069      13       2883 2003-02-12 10:08:51   \n",
       "Charivari                5397      13       2097 2006-03-21 11:08:34   \n",
       "sandrine062              3762      13       1303 2005-10-18 11:28:52   \n",
       "Petit_Gizmo              3473      13       1448 2003-02-25 09:19:17   \n",
       "titebouillotte           2858      10        216 2008-10-18 10:41:13   \n",
       "Princesse Dézécole       2788      13       1531 2003-09-20 14:25:07   \n",
       "dhaiphi                  2541      12       1260 2004-02-21 21:11:58   \n",
       "Lapin bondissant         2533      11       1300 2003-02-15 19:36:28   \n",
       "Théoboulo                2515      13        551 2007-07-26 15:14:31   \n",
       "sanleane                 2493      12        379 2010-03-06 21:26:11   \n",
       "cpette                   2473      13        375 2008-03-15 20:26:24   \n",
       "Bla67                    2449      12        297 2011-08-28 11:32:22   \n",
       "André Jorge              2424      13       2044 2003-02-09 06:54:37   \n",
       "Japet                    2382      12        485 2008-11-22 22:44:36   \n",
       "ouioui                   2352      12       1430 2004-02-26 21:52:05   \n",
       "boubiz                   2331      11        416 2009-09-19 07:55:58   \n",
       "Nath                     2283      13       1589 2003-02-04 15:03:00   \n",
       "helenel                  2220      13       1047 2008-07-08 13:34:18   \n",
       "hamster                  2125      13        946 2003-03-16 16:12:54   \n",
       "\n",
       "                                                           days  \n",
       "                           time_range                 max        \n",
       "author                                                           \n",
       "mamiebrossard      5806 days 21:37:01 2019-01-06 07:45:52  5806  \n",
       "Charivari          4171 days 08:58:14 2017-08-21 20:06:48  4171  \n",
       "sandrine062        4795 days 20:57:48 2018-12-05 08:26:40  4795  \n",
       "Petit_Gizmo        5657 days 05:30:22 2018-08-22 14:49:39  5657  \n",
       "titebouillotte     3177 days 04:00:24 2017-06-30 14:41:37  3177  \n",
       "Princesse Dézécole 5543 days 03:42:52 2018-11-23 18:07:59  5543  \n",
       "dhaiphi            3016 days 18:57:24 2012-05-26 16:09:22  3016  \n",
       "Lapin bondissant   3001 days 00:20:29 2011-05-05 19:56:57  3001  \n",
       "Théoboulo          3573 days 18:20:09 2017-05-08 09:34:40  3573  \n",
       "sanleane           3153 days 08:36:40 2018-10-24 06:02:51  3153  \n",
       "cpette             3675 days 13:07:06 2018-04-08 09:33:30  3675  \n",
       "Bla67              2151 days 10:42:16 2017-07-18 22:14:38  2151  \n",
       "André Jorge        5770 days 10:34:00 2018-11-27 17:28:37  5770  \n",
       "Japet              3056 days 17:37:11 2017-04-06 16:21:47  3056  \n",
       "ouioui             4197 days 08:37:49 2015-08-25 06:29:54  4197  \n",
       "boubiz             3318 days 21:39:23 2018-10-21 05:35:21  3318  \n",
       "Nath               5268 days 20:11:31 2017-07-09 11:14:31  5268  \n",
       "helenel            3840 days 21:41:49 2019-01-13 11:16:07  3840  \n",
       "hamster            5779 days 05:45:26 2019-01-10 21:58:20  5779  "
      ]
     },
     "execution_count": 37,
     "metadata": {},
     "output_type": "execute_result"
    }
   ],
   "source": [
    "auth_daf.sort_values(by=[(\"forum_name\",\"count\")], ascending=False)[1:20]"
   ]
  },
  {
   "cell_type": "code",
   "execution_count": 38,
   "metadata": {},
   "outputs": [
    {
     "ename": "AttributeError",
     "evalue": "'tuple' object has no attribute 'show'",
     "output_type": "error",
     "traceback": [
      "\u001b[0;31m---------------------------------------------------------------------------\u001b[0m",
      "\u001b[0;31mAttributeError\u001b[0m                            Traceback (most recent call last)",
      "\u001b[0;32m<ipython-input-38-8b472ceecbf5>\u001b[0m in \u001b[0;36m<module>\u001b[0;34m()\u001b[0m\n\u001b[0;32m----> 1\u001b[0;31m \u001b[0mplt\u001b[0m\u001b[0;34m.\u001b[0m\u001b[0mhist\u001b[0m\u001b[0;34m(\u001b[0m\u001b[0mauth_daf\u001b[0m\u001b[0;34m[\u001b[0m\u001b[0mauth_daf\u001b[0m\u001b[0;34m.\u001b[0m\u001b[0mdays\u001b[0m \u001b[0;34m>\u001b[0m \u001b[0;36m365\u001b[0m\u001b[0;34m*\u001b[0m\u001b[0;36m4\u001b[0m\u001b[0;34m]\u001b[0m\u001b[0;34m.\u001b[0m\u001b[0mforum_name\u001b[0m\u001b[0;34m[\u001b[0m\u001b[0;34m\"count\"\u001b[0m\u001b[0;34m]\u001b[0m\u001b[0;34m,\u001b[0m\u001b[0mbins\u001b[0m\u001b[0;34m=\u001b[0m\u001b[0mrange\u001b[0m\u001b[0;34m(\u001b[0m\u001b[0;36m0\u001b[0m\u001b[0;34m,\u001b[0m\u001b[0;36m2000\u001b[0m\u001b[0;34m,\u001b[0m\u001b[0;36m10\u001b[0m\u001b[0;34m)\u001b[0m\u001b[0;34m)\u001b[0m\u001b[0;34m.\u001b[0m\u001b[0mshow\u001b[0m\u001b[0;34m(\u001b[0m\u001b[0;34m)\u001b[0m\u001b[0;34m\u001b[0m\u001b[0;34m\u001b[0m\u001b[0m\n\u001b[0m",
      "\u001b[0;31mAttributeError\u001b[0m: 'tuple' object has no attribute 'show'"
     ]
    },
    {
     "data": {
      "image/png": "[encoded data removed]",
      "text/plain": [
       "<Figure size 1440x720 with 1 Axes>"
      ]
     },
     "metadata": {
      "needs_background": "light"
     },
     "output_type": "display_data"
    }
   ],
   "source": [
    "plt.hist(auth_daf[auth_daf.days > 365*4].forum_name[\"count\"],bins=range(0,2000,10)).show()"
   ]
  },
  {
   "cell_type": "code",
   "execution_count": null,
   "metadata": {
    "scrolled": true
   },
   "outputs": [],
   "source": [
    "data_topics[1:10]"
   ]
  },
  {
   "cell_type": "code",
   "execution_count": null,
   "metadata": {},
   "outputs": [],
   "source": [
    "df[10:10]"
   ]
  },
  {
   "cell_type": "code",
   "execution_count": null,
   "metadata": {},
   "outputs": [],
   "source": []
  },
  {
   "cell_type": "markdown",
   "metadata": {},
   "source": [
    "Week day for posting\n",
    "Frequencies"
   ]
  },
  {
   "cell_type": "markdown",
   "metadata": {},
   "source": [
    "## Title\n",
    "\n",
    "this is the program\n",
    "\n",
    "- 1\n",
    "- 2"
   ]
  },
  {
   "cell_type": "code",
   "execution_count": null,
   "metadata": {},
   "outputs": [],
   "source": []
  },
  {
   "cell_type": "code",
   "execution_count": null,
   "metadata": {},
   "outputs": [],
   "source": []
  }
 ],
 "metadata": {
  "kernelspec": {
   "display_name": "Python 3",
   "language": "python",
   "name": "python3"
  },
  "language_info": {
   "codemirror_mode": {
    "name": "ipython",
    "version": 3
   },
   "file_extension": ".py",
   "mimetype": "text/x-python",
   "name": "python",
   "nbconvert_exporter": "python",
   "pygments_lexer": "ipython3",
   "version": "3.7.2"
  }
 },
 "nbformat": 4,
 "nbformat_minor": 2
}
